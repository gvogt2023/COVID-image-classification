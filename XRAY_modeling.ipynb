{
  "cells": [
    {
      "cell_type": "code",
      "execution_count": 2,
      "metadata": {
        "colab": {
          "base_uri": "https://localhost:8080/"
        },
        "id": "vbGCnamuwYOG",
        "outputId": "2c0e1f3b-bad5-41b0-becf-6aee098fb9d7"
      },
      "outputs": [
        {
          "output_type": "stream",
          "name": "stdout",
          "text": [
            "Mounted at /content/gdrive\n"
          ]
        }
      ],
      "source": [
        "import os\n",
        "from google.colab import drive\n",
        "\n",
        "# Mount Google Drive\n",
        "drive.mount('/content/gdrive')"
      ]
    },
    {
      "cell_type": "code",
      "execution_count": 3,
      "metadata": {
        "colab": {
          "base_uri": "https://localhost:8080/"
        },
        "id": "qVTND4WS0J9r",
        "outputId": "50af2f78-d7d5-471e-a5a3-612b85c4f291"
      },
      "outputs": [
        {
          "output_type": "stream",
          "name": "stdout",
          "text": [
            "Mounted at /content/drive\n"
          ]
        }
      ],
      "source": [
        "from google.colab import drive\n",
        "drive.mount('/content/drive')\n"
      ]
    },
    {
      "cell_type": "code",
      "execution_count": 4,
      "metadata": {
        "id": "5_azbFO5RGNC"
      },
      "outputs": [],
      "source": [
        "import os\n",
        "import numpy as np\n",
        "from sklearn.preprocessing import LabelBinarizer\n",
        "from keras.models import Sequential\n",
        "from keras.layers import Conv2D, MaxPooling2D, Flatten, Dense\n",
        "from keras.callbacks import EarlyStopping\n",
        "from keras import regularizers, optimizers\n",
        "import tensorflow as tf\n",
        "import matplotlib.pyplot as plt"
      ]
    },
    {
      "cell_type": "code",
      "execution_count": 5,
      "metadata": {
        "id": "S_dFDiSv0cdF"
      },
      "outputs": [],
      "source": [
        "\n",
        "\n",
        "data_dir = '/content/drive/MyDrive/Image Classification Data'\n",
        "xray_labels = np.load(os.path.join(data_dir, 'xray_labels.npy'))\n",
        "xray_data = np.load(os.path.join(data_dir, 'xray_data.npy'))"
      ]
    },
    {
      "cell_type": "code",
      "execution_count": 6,
      "metadata": {
        "id": "-eEHFRXigR9T"
      },
      "outputs": [],
      "source": [
        "from sklearn.model_selection import train_test_split\n",
        "\n",
        "# Split the dataset into training and testing sets\n",
        "X_train, X_test, y_train, y_test = train_test_split(xray_data, xray_labels, test_size=0.2, random_state=42)\n",
        "\n",
        "# Split the training set into training and validation sets\n",
        "X_train, X_val, y_train, y_val = train_test_split(X_train, y_train, test_size=0.2, random_state=42)\n"
      ]
    },
    {
      "cell_type": "code",
      "execution_count": 7,
      "metadata": {
        "id": "GB-oTtTeh1KF",
        "colab": {
          "base_uri": "https://localhost:8080/"
        },
        "outputId": "1440c86d-ef46-40d6-8a7f-efb17bd4733e"
      },
      "outputs": [
        {
          "output_type": "stream",
          "name": "stdout",
          "text": [
            "Training set shape: (6108, 224, 224)\n",
            "Validation set shape: (1527, 224, 224)\n",
            "Testing set shape: (1909, 224, 224)\n"
          ]
        }
      ],
      "source": [
        "\n",
        "print(\"Training set shape:\", X_train.shape)\n",
        "print(\"Validation set shape:\", X_val.shape)\n",
        "print(\"Testing set shape:\", X_test.shape)\n"
      ]
    },
    {
      "cell_type": "code",
      "execution_count": 8,
      "metadata": {
        "id": "q_PKj3FEpwab",
        "colab": {
          "base_uri": "https://localhost:8080/"
        },
        "outputId": "325b707d-4860-4df8-b79e-65188f394524"
      },
      "outputs": [
        {
          "output_type": "stream",
          "name": "stdout",
          "text": [
            "Training set shape: (6108,)\n",
            "Validation set shape: (1527,)\n",
            "Testing set shape: (1909,)\n"
          ]
        }
      ],
      "source": [
        "print(\"Training set shape:\", y_train.shape)\n",
        "print(\"Validation set shape:\", y_val.shape)\n",
        "print(\"Testing set shape:\", y_test.shape)"
      ]
    },
    {
      "cell_type": "code",
      "execution_count": 9,
      "metadata": {
        "id": "YxV0piw5pg1v"
      },
      "outputs": [],
      "source": [
        "\n",
        "\n",
        "# Convert class labels to binary format\n",
        "lb = LabelBinarizer()\n",
        "y_train = lb.fit_transform(y_train)\n",
        "y_val = lb.transform(y_val)\n",
        "y_test = lb.transform(y_test)\n"
      ]
    },
    {
      "cell_type": "code",
      "execution_count": 10,
      "metadata": {
        "id": "vRLW0SMBq1mP",
        "colab": {
          "base_uri": "https://localhost:8080/"
        },
        "outputId": "cadf9afe-8db0-4e6a-d345-97e7e88b59c5"
      },
      "outputs": [
        {
          "output_type": "execute_result",
          "data": {
            "text/plain": [
              "array([[1],\n",
              "       [1],\n",
              "       [0],\n",
              "       ...,\n",
              "       [1],\n",
              "       [1],\n",
              "       [1]])"
            ]
          },
          "metadata": {},
          "execution_count": 10
        }
      ],
      "source": [
        "y_train"
      ]
    },
    {
      "cell_type": "code",
      "execution_count": null,
      "metadata": {
        "colab": {
          "base_uri": "https://localhost:8080/"
        },
        "id": "pg16NaPLOzmi",
        "outputId": "edb5e563-b0fa-4f0a-c7b4-9e2399ed2254"
      },
      "outputs": [
        {
          "name": "stdout",
          "output_type": "stream",
          "text": [
            "Epoch 1/50\n"
          ]
        },
        {
          "name": "stderr",
          "output_type": "stream",
          "text": [
            "/usr/local/lib/python3.9/dist-packages/tensorflow/python/util/dispatch.py:1176: SyntaxWarning: In loss categorical_crossentropy, expected y_pred.shape to be (batch_size, num_classes) with num_classes > 1. Received: y_pred.shape=(None, 1). Consider using 'binary_crossentropy' if you only have 2 classes.\n",
            "  return dispatch_target(*args, **kwargs)\n"
          ]
        },
        {
          "name": "stdout",
          "output_type": "stream",
          "text": [
            "96/96 [==============================] - 619s 6s/step - loss: 0.0000e+00 - accuracy: 0.4219 - val_loss: 0.0000e+00 - val_accuracy: 0.4309\n",
            "Epoch 2/50\n",
            "96/96 [==============================] - 594s 6s/step - loss: 0.0000e+00 - accuracy: 0.4199 - val_loss: 0.0000e+00 - val_accuracy: 0.4309\n",
            "Epoch 3/50\n",
            "96/96 [==============================] - 601s 6s/step - loss: 0.0000e+00 - accuracy: 0.4199 - val_loss: 0.0000e+00 - val_accuracy: 0.4309\n",
            "Epoch 4/50\n",
            "96/96 [==============================] - 596s 6s/step - loss: 0.0000e+00 - accuracy: 0.4199 - val_loss: 0.0000e+00 - val_accuracy: 0.4309\n",
            "Epoch 5/50\n",
            "96/96 [==============================] - 597s 6s/step - loss: 0.0000e+00 - accuracy: 0.4199 - val_loss: 0.0000e+00 - val_accuracy: 0.4309\n",
            "Epoch 6/50\n",
            "96/96 [==============================] - 601s 6s/step - loss: 0.0000e+00 - accuracy: 0.4199 - val_loss: 0.0000e+00 - val_accuracy: 0.4309\n"
          ]
        }
      ],
      "source": [
        "\n",
        "\n",
        "# Build a baseline fully connected model\n",
        "baseline_model = Sequential()\n",
        "baseline_model._name = \"Baseline\"\n",
        "\n",
        "\n",
        "# Add a Conv2D layer with 32 filters and 3x3 kernel size\n",
        "baseline_model.add(Conv2D(filters=32,\n",
        "                 kernel_size=(3, 3),\n",
        "                 activation='relu',\n",
        "                 input_shape=(224, 224, 1)))\n",
        "\n",
        "# Add a MaxPooling2D layer with 2x2 pool size\n",
        "baseline_model.add(MaxPooling2D(pool_size=(2, 2)))\n",
        "\n",
        "# Add another Conv2D layer with 64 filters and 3x3 kernel size\n",
        "baseline_model.add(Conv2D(filters=64,\n",
        "                 kernel_size=(3, 3),\n",
        "                 activation='relu'))\n",
        "\n",
        "# Flatten the output of the convolutional layers\n",
        "baseline_model.add(Flatten())\n",
        "\n",
        "\n",
        "baseline_model.add(Dense(16, activation='relu')) \n",
        "\n",
        "baseline_model.add(Dense(1, activation='sigmoid')) \n",
        "\n",
        "# Define early stopping callback\n",
        "trainCallback = EarlyStopping(monitor='accuracy', min_delta=1e-2, patience=5)\n",
        "\n",
        "\n",
        "model.compile(loss='binary_crossentropy', optimizer='adam', metrics=['accuracy', tf.keras.metrics.Precision(), tf.keras.metrics.Recall()])\n",
        ")\n",
        "\n",
        "baseline = baseline_model.fit(X_train, y_train,\n",
        "                   epochs=50,\n",
        "                   batch_size=64,\n",
        "                   validation_data=(X_val, y_val),\n",
        "                   callbacks=[trainCallback])\n"
      ]
    },
    {
      "cell_type": "code",
      "execution_count": null,
      "metadata": {
        "colab": {
          "base_uri": "https://localhost:8080/"
        },
        "id": "6kIW9EcUfi6p",
        "outputId": "7e5b4552-916a-495b-e2c6-768e4723e175"
      },
      "outputs": [
        {
          "name": "stdout",
          "output_type": "stream",
          "text": [
            "60/60 [==============================] - 50s 833ms/step - loss: 0.0000e+00 - accuracy: 0.4301\n",
            "Test loss: 0.0\n",
            "Test accuracy: 0.43006810545921326\n"
          ]
        }
      ],
      "source": [
        "loss, accuracy, precision, recall, f1_score = model.evaluate(X_test, y_test)\n",
        "print(\"Test loss:\", loss)\n",
        "print(\"Test accuracy:\", accuracy)\n",
        "print(\"Test precision:\", precision)\n",
        "print(\"Test recall:\", recall)\n"
      ]
    },
    {
      "cell_type": "code",
      "execution_count": null,
      "metadata": {
        "colab": {
          "base_uri": "https://localhost:8080/",
          "height": 472
        },
        "id": "U5qs_gScflGA",
        "outputId": "fffba30d-1b02-4dd6-f7fc-3d610f27a4f1"
      },
      "outputs": [
        {
          "data": {
            "image/png": "[encoded data removed]",
            "text/plain": [
              "<Figure size 640x480 with 1 Axes>"
            ]
          },
          "metadata": {},
          "output_type": "display_data"
        }
      ],
      "source": [
        "\n",
        "\n",
        "# Plot training and validation loss history\n",
        "history = baseline.history\n",
        "train_loss = history['loss']\n",
        "val_loss = history['val_loss']\n",
        "\n",
        "plt.plot(train_loss, label='Train loss')\n",
        "plt.plot(val_loss, label='Val loss')\n",
        "plt.legend()\n",
        "plt.title('Baseline Training and Validation Loss')\n",
        "plt.xlabel('Epoch')\n",
        "plt.ylabel('Loss')\n",
        "plt.show()\n",
        "\n"
      ]
    },
    {
      "cell_type": "code",
      "execution_count": 17,
      "metadata": {
        "colab": {
          "base_uri": "https://localhost:8080/"
        },
        "id": "FwRZbxHto-pT",
        "outputId": "82c5a405-152f-44f6-93e0-0867bfa6768a"
      },
      "outputs": [
        {
          "output_type": "stream",
          "name": "stdout",
          "text": [
            "Epoch 1/10\n",
            "191/191 [==============================] - 414s 2s/step - loss: 0.4873 - accuracy: 0.7623 - precision_2: 0.7856 - recall_2: 0.8117 - val_loss: 0.3434 - val_accuracy: 0.8494 - val_precision_2: 0.9049 - val_recall_2: 0.8216\n",
            "Epoch 2/10\n",
            "191/191 [==============================] - 413s 2s/step - loss: 0.3017 - accuracy: 0.8702 - precision_2: 0.8947 - recall_2: 0.8798 - val_loss: 0.3087 - val_accuracy: 0.8815 - val_precision_2: 0.8731 - val_recall_2: 0.9264\n",
            "Epoch 3/10\n",
            "191/191 [==============================] - 413s 2s/step - loss: 0.2152 - accuracy: 0.9145 - precision_2: 0.9235 - recall_2: 0.9297 - val_loss: 0.2960 - val_accuracy: 0.8867 - val_precision_2: 0.8901 - val_recall_2: 0.9137\n",
            "Epoch 4/10\n",
            "191/191 [==============================] - 414s 2s/step - loss: 0.1728 - accuracy: 0.9288 - precision_2: 0.9375 - recall_2: 0.9399 - val_loss: 0.2985 - val_accuracy: 0.8946 - val_precision_2: 0.9245 - val_recall_2: 0.8872\n",
            "Epoch 5/10\n",
            "191/191 [==============================] - 413s 2s/step - loss: 0.1186 - accuracy: 0.9533 - precision_2: 0.9607 - recall_2: 0.9588 - val_loss: 0.3089 - val_accuracy: 0.8906 - val_precision_2: 0.8824 - val_recall_2: 0.9321\n",
            "Epoch 6/10\n",
            "191/191 [==============================] - 414s 2s/step - loss: 0.0909 - accuracy: 0.9643 - precision_2: 0.9684 - recall_2: 0.9701 - val_loss: 0.3272 - val_accuracy: 0.8998 - val_precision_2: 0.8978 - val_recall_2: 0.9298\n",
            "Epoch 7/10\n",
            "191/191 [==============================] - 412s 2s/step - loss: 0.0810 - accuracy: 0.9710 - precision_2: 0.9773 - recall_2: 0.9726 - val_loss: 0.3128 - val_accuracy: 0.8998 - val_precision_2: 0.9022 - val_recall_2: 0.9241\n",
            "Epoch 8/10\n",
            "191/191 [==============================] - 418s 2s/step - loss: 0.0595 - accuracy: 0.9777 - precision_2: 0.9824 - recall_2: 0.9791 - val_loss: 0.3495 - val_accuracy: 0.9037 - val_precision_2: 0.9237 - val_recall_2: 0.9056\n",
            "Epoch 9/10\n",
            "191/191 [==============================] - 414s 2s/step - loss: 0.0594 - accuracy: 0.9776 - precision_2: 0.9830 - recall_2: 0.9783 - val_loss: 0.3484 - val_accuracy: 0.9077 - val_precision_2: 0.9018 - val_recall_2: 0.9402\n",
            "Epoch 10/10\n",
            "191/191 [==============================] - 397s 2s/step - loss: 0.0470 - accuracy: 0.9831 - precision_2: 0.9875 - recall_2: 0.9833 - val_loss: 0.3502 - val_accuracy: 0.9103 - val_precision_2: 0.9256 - val_recall_2: 0.9160\n"
          ]
        }
      ],
      "source": [
        "\n",
        "\n",
        "# Create a Sequential model\n",
        "model = Sequential()\n",
        "\n",
        "# Add a Conv2D layer with 32 filters and 3x3 kernel size\n",
        "model.add(Conv2D(filters=32,\n",
        "                 kernel_size=(3, 3),\n",
        "                 activation='relu',\n",
        "                 input_shape=(224, 224, 1)))\n",
        "\n",
        "# Add a MaxPooling2D layer with 2x2 pool size\n",
        "model.add(MaxPooling2D(pool_size=(2, 2)))\n",
        "\n",
        "# Add another Conv2D layer with 64 filters and 3x3 kernel size\n",
        "model.add(Conv2D(filters=64,\n",
        "                 kernel_size=(3, 3),\n",
        "                 activation='relu'))\n",
        "\n",
        "\n",
        "# Add another MaxPooling2D layer with 2x2 pool size\n",
        "model.add(MaxPooling2D(pool_size=(2, 2)))\n",
        "\n",
        "# Add another Conv2D layer with 64 filters and 3x3 kernel size\n",
        "model.add(Conv2D(filters=64,\n",
        "                 kernel_size=(3, 3),\n",
        "                 activation='relu'))\n",
        "\n",
        "# Flatten the output of the convolutional layers\n",
        "model.add(Flatten())\n",
        "\n",
        "# Add a Dense layer with 64 neurons and ReLU activation\n",
        "model.add(Dense(64, activation='relu'))\n",
        "\n",
        "model.add(Dense(1, activation='sigmoid'))\n",
        "\n",
        "# Compile the model\n",
        "model.compile(loss='binary_crossentropy', optimizer='adam', metrics=['accuracy', tf.keras.metrics.Precision(), tf.keras.metrics.Recall()])\n",
        "\n",
        "\n",
        "history = model.fit(X_train, y_train,\n",
        "                    epochs=10,\n",
        "                    batch_size=32,\n",
        "                    validation_data=(X_val, y_val))"
      ]
    },
    {
      "cell_type": "code",
      "execution_count": 21,
      "metadata": {
        "colab": {
          "base_uri": "https://localhost:8080/"
        },
        "id": "5m2q4PDK_Tgo",
        "outputId": "ccc28606-3d49-4ff6-ff57-e2c1026ea2df"
      },
      "outputs": [
        {
          "output_type": "stream",
          "name": "stdout",
          "text": [
            "60/60 [==============================] - 31s 509ms/step - loss: 0.3501 - accuracy: 0.9083 - precision_2: 0.9360 - recall_2: 0.9007\n",
            "Test loss: 0.350088506937027\n",
            "Test accuracy: 0.9083289504051208\n",
            "Test precision: 0.9360076189041138\n",
            "Test recall: 0.9007353186607361\n"
          ]
        }
      ],
      "source": [
        "loss, accuracy, precision, recall = model.evaluate(X_test, y_test)\n",
        "print(\"Test loss:\", loss)\n",
        "print(\"Test accuracy:\", accuracy)\n",
        "print(\"Test precision:\", precision)\n",
        "print(\"Test recall:\", recall)\n"
      ]
    },
    {
      "cell_type": "code",
      "execution_count": 19,
      "metadata": {
        "colab": {
          "base_uri": "https://localhost:8080/",
          "height": 472
        },
        "id": "v3lV3syYOeQ0",
        "outputId": "0804f125-2be2-4f24-e3ff-b7b4dae1a8bd"
      },
      "outputs": [
        {
          "output_type": "display_data",
          "data": {
            "text/plain": [
              "<Figure size 640x480 with 1 Axes>"
            ],
            "image/png": "[encoded data removed]"
          },
          "metadata": {}
        }
      ],
      "source": [
        "\n",
        "\n",
        "\n",
        "# Plot training and validation loss history\n",
        "train_loss = history.history['loss']\n",
        "val_loss = history.history['val_loss']\n",
        "\n",
        "plt.plot(train_loss, label='Train loss')\n",
        "plt.plot(val_loss, label='Val loss')\n",
        "plt.legend()\n",
        "plt.title('Training and Validation Loss')\n",
        "plt.xlabel('Epoch')\n",
        "plt.ylabel('Loss')\n",
        "plt.show()\n"
      ]
    },
    {
      "cell_type": "code",
      "execution_count": null,
      "metadata": {
        "id": "5hOtd8wnvxeb"
      },
      "outputs": [],
      "source": [
        "# overfitting -- so adding L2 regularization"
      ]
    },
    {
      "cell_type": "code",
      "execution_count": 14,
      "metadata": {
        "colab": {
          "base_uri": "https://localhost:8080/"
        },
        "id": "E51zTcfywruH",
        "outputId": "99e9249d-cc7c-440f-f39b-800cef1fa2e0"
      },
      "outputs": [
        {
          "output_type": "stream",
          "name": "stdout",
          "text": [
            "Epoch 1/10\n",
            "191/191 [==============================] - 427s 2s/step - loss: 1.0122 - accuracy: 0.6907 - precision_1: 0.6961 - recall_1: 0.8287 - val_loss: 0.7437 - val_accuracy: 0.7557 - val_precision_1: 0.7131 - val_recall_1: 0.9551\n",
            "Epoch 2/10\n",
            "191/191 [==============================] - 415s 2s/step - loss: 0.6232 - accuracy: 0.8029 - precision_1: 0.8273 - recall_1: 0.8343 - val_loss: 0.6034 - val_accuracy: 0.7734 - val_precision_1: 0.7424 - val_recall_1: 0.9217\n",
            "Epoch 3/10\n",
            "191/191 [==============================] - 416s 2s/step - loss: 0.5346 - accuracy: 0.8214 - precision_1: 0.8457 - recall_1: 0.8465 - val_loss: 0.5232 - val_accuracy: 0.8075 - val_precision_1: 0.7913 - val_recall_1: 0.8987\n",
            "Epoch 4/10\n",
            "191/191 [==============================] - 416s 2s/step - loss: 0.5073 - accuracy: 0.8247 - precision_1: 0.8488 - recall_1: 0.8490 - val_loss: 0.5062 - val_accuracy: 0.8245 - val_precision_1: 0.8789 - val_recall_1: 0.8021\n",
            "Epoch 5/10\n",
            "191/191 [==============================] - 415s 2s/step - loss: 0.4849 - accuracy: 0.8271 - precision_1: 0.8518 - recall_1: 0.8498 - val_loss: 0.5188 - val_accuracy: 0.8127 - val_precision_1: 0.8386 - val_recall_1: 0.8308\n",
            "Epoch 6/10\n",
            "191/191 [==============================] - 415s 2s/step - loss: 0.4828 - accuracy: 0.8320 - precision_1: 0.8558 - recall_1: 0.8544 - val_loss: 0.4978 - val_accuracy: 0.8186 - val_precision_1: 0.8989 - val_recall_1: 0.7675\n",
            "Epoch 7/10\n",
            "191/191 [==============================] - 416s 2s/step - loss: 0.4627 - accuracy: 0.8423 - precision_1: 0.8656 - recall_1: 0.8620 - val_loss: 0.4695 - val_accuracy: 0.8337 - val_precision_1: 0.8764 - val_recall_1: 0.8239\n",
            "Epoch 8/10\n",
            "191/191 [==============================] - 414s 2s/step - loss: 0.4655 - accuracy: 0.8376 - precision_1: 0.8592 - recall_1: 0.8611 - val_loss: 0.4721 - val_accuracy: 0.8278 - val_precision_1: 0.8230 - val_recall_1: 0.8884\n",
            "Epoch 9/10\n",
            "191/191 [==============================] - 413s 2s/step - loss: 0.4531 - accuracy: 0.8440 - precision_1: 0.8683 - recall_1: 0.8617 - val_loss: 0.4974 - val_accuracy: 0.8225 - val_precision_1: 0.8843 - val_recall_1: 0.7917\n",
            "Epoch 10/10\n",
            "191/191 [==============================] - 416s 2s/step - loss: 0.4480 - accuracy: 0.8435 - precision_1: 0.8714 - recall_1: 0.8566 - val_loss: 0.4626 - val_accuracy: 0.8376 - val_precision_1: 0.8524 - val_recall_1: 0.8642\n"
          ]
        }
      ],
      "source": [
        "\n",
        "\n",
        "# Create a Sequential model\n",
        "model = Sequential()\n",
        "\n",
        "# Add a Conv2D layer with 32 filters and 3x3 kernel size\n",
        "model.add(Conv2D(filters=32,\n",
        "                 kernel_size=(3, 3),\n",
        "                 activation='relu',\n",
        "                 input_shape=(224, 224, 1)))\n",
        "\n",
        "# Add a MaxPooling2D layer with 2x2 pool size\n",
        "model.add(MaxPooling2D(pool_size=(2, 2)))\n",
        "\n",
        "# Add another Conv2D layer with 64 filters and 3x3 kernel size\n",
        "model.add(Conv2D(filters=64,\n",
        "                 kernel_size=(3, 3),\n",
        "                 activation='relu',\n",
        "                 kernel_regularizer=regularizers.l2(0.01)))\n",
        "\n",
        "# Add another MaxPooling2D layer with 2x2 pool size\n",
        "model.add(MaxPooling2D(pool_size=(2, 2)))\n",
        "\n",
        "# Add another Conv2D layer with 64 filters and 3x3 kernel size\n",
        "model.add(Conv2D(filters=64,\n",
        "                 kernel_size=(3, 3),\n",
        "                 activation='relu',\n",
        "                 kernel_regularizer=regularizers.l2(0.01)))\n",
        "\n",
        "# Flatten the output of the convolutional layers\n",
        "model.add(Flatten())\n",
        "\n",
        "# Add a Dense layer with 64 neurons and ReLU activation, with L2 regularization\n",
        "model.add(Dense(64, activation='relu', kernel_regularizer=regularizers.l2(0.01)))\n",
        "\n",
        "# Add the output layer\n",
        "model.add(Dense(1, activation='sigmoid'))\n",
        "\n",
        "# Compile the model\n",
        "model.compile(loss='binary_crossentropy', optimizer='adam', metrics=['accuracy', tf.keras.metrics.Precision(), tf.keras.metrics.Recall()])\n",
        "\n",
        "\n",
        "# Fit the model\n",
        "history = model.fit(X_train, y_train,\n",
        "                    epochs=10,\n",
        "                    batch_size=32,\n",
        "                    validation_data=(X_val, y_val))\n",
        "\n"
      ]
    },
    {
      "cell_type": "code",
      "execution_count": 15,
      "metadata": {
        "id": "768uRSIMQrYl",
        "colab": {
          "base_uri": "https://localhost:8080/"
        },
        "outputId": "885a71e4-5058-49a3-afe3-082415fcfeab"
      },
      "outputs": [
        {
          "output_type": "stream",
          "name": "stdout",
          "text": [
            "60/60 [==============================] - 32s 529ms/step - loss: 0.4668 - accuracy: 0.8397 - precision_1: 0.8641 - recall_1: 0.8529\n",
            "Test loss: 0.46676167845726013\n",
            "Test accuracy: 0.8397066593170166\n",
            "Test precision: 0.864059567451477\n",
            "Test recall: 0.8529411554336548\n"
          ]
        }
      ],
      "source": [
        "loss, accuracy, precision, recall = model.evaluate(X_test, y_test)\n",
        "print(\"Test loss:\", loss)\n",
        "print(\"Test accuracy:\", accuracy)\n",
        "print(\"Test precision:\", precision)\n",
        "print(\"Test recall:\", recall)\n"
      ]
    },
    {
      "cell_type": "code",
      "execution_count": 16,
      "metadata": {
        "id": "TJ4Ah5LdSJks",
        "colab": {
          "base_uri": "https://localhost:8080/",
          "height": 472
        },
        "outputId": "fae440ef-beac-48b9-e506-b4520c697b01"
      },
      "outputs": [
        {
          "output_type": "display_data",
          "data": {
            "text/plain": [
              "<Figure size 640x480 with 1 Axes>"
            ],
            "image/png": "[encoded data removed]"
          },
          "metadata": {}
        }
      ],
      "source": [
        "import matplotlib.pyplot as plt\n",
        "\n",
        "\n",
        "# Plot training and validation loss history\n",
        "train_loss = history.history['loss']\n",
        "val_loss = history.history['val_loss']\n",
        "\n",
        "plt.plot(train_loss, label='Train loss')\n",
        "plt.plot(val_loss, label='Val loss')\n",
        "plt.legend()\n",
        "plt.title('Training and Validation Loss')\n",
        "plt.xlabel('Epoch')\n",
        "plt.ylabel('Loss')\n",
        "plt.show()\n"
      ]
    },
    {
      "cell_type": "code",
      "execution_count": null,
      "metadata": {
        "colab": {
          "base_uri": "https://localhost:8080/"
        },
        "id": "AX4QOTInXQz7",
        "outputId": "7a65b2b4-28d5-455a-8493-f195fa8daeb0"
      },
      "outputs": [
        {
          "name": "stderr",
          "output_type": "stream",
          "text": [
            "/usr/local/lib/python3.9/dist-packages/keras/optimizers/legacy/adam.py:117: UserWarning: The `lr` argument is deprecated, use `learning_rate` instead.\n",
            "  super().__init__(name, **kwargs)\n"
          ]
        },
        {
          "name": "stdout",
          "output_type": "stream",
          "text": [
            "Epoch 1/10\n",
            "191/191 [==============================] - 472s 2s/step - loss: 12.2865 - accuracy: 0.5758 - precision: 0.5788 - recall: 0.9873 - val_loss: 1.1597 - val_accuracy: 0.5691 - val_precision: 0.5691 - val_recall: 1.0000\n",
            "Epoch 2/10\n",
            "191/191 [==============================] - 470s 2s/step - loss: 1.0648 - accuracy: 0.5801 - precision: 0.5801 - recall: 1.0000 - val_loss: 1.0202 - val_accuracy: 0.5691 - val_precision: 0.5691 - val_recall: 1.0000\n",
            "Epoch 3/10\n",
            "191/191 [==============================] - 472s 2s/step - loss: 0.9862 - accuracy: 0.5801 - precision: 0.5801 - recall: 1.0000 - val_loss: 0.9605 - val_accuracy: 0.5691 - val_precision: 0.5691 - val_recall: 1.0000\n",
            "Epoch 4/10\n",
            "191/191 [==============================] - 473s 2s/step - loss: 0.9300 - accuracy: 0.5801 - precision: 0.5801 - recall: 1.0000 - val_loss: 0.9111 - val_accuracy: 0.5691 - val_precision: 0.5691 - val_recall: 1.0000\n",
            "Epoch 5/10\n",
            "191/191 [==============================] - 482s 3s/step - loss: 0.8839 - accuracy: 0.5801 - precision: 0.5801 - recall: 1.0000 - val_loss: 0.8659 - val_accuracy: 0.5691 - val_precision: 0.5691 - val_recall: 1.0000\n",
            "Epoch 6/10\n",
            "191/191 [==============================] - 474s 2s/step - loss: 0.8441 - accuracy: 0.5801 - precision: 0.5801 - recall: 1.0000 - val_loss: 0.8290 - val_accuracy: 0.5691 - val_precision: 0.5691 - val_recall: 1.0000\n",
            "Epoch 7/10\n",
            "191/191 [==============================] - 470s 2s/step - loss: 0.8127 - accuracy: 0.5801 - precision: 0.5801 - recall: 1.0000 - val_loss: 0.8137 - val_accuracy: 0.5691 - val_precision: 0.5691 - val_recall: 1.0000\n",
            "Epoch 8/10\n",
            "191/191 [==============================] - 480s 3s/step - loss: 0.7892 - accuracy: 0.5801 - precision: 0.5801 - recall: 1.0000 - val_loss: 0.7765 - val_accuracy: 0.5691 - val_precision: 0.5691 - val_recall: 1.0000\n",
            "Epoch 9/10\n",
            "191/191 [==============================] - 470s 2s/step - loss: 0.7636 - accuracy: 0.5801 - precision: 0.5801 - recall: 1.0000 - val_loss: 0.7610 - val_accuracy: 0.5691 - val_precision: 0.5691 - val_recall: 1.0000\n",
            "Epoch 10/10\n",
            "191/191 [==============================] - 468s 2s/step - loss: 0.7413 - accuracy: 0.5801 - precision: 0.5801 - recall: 1.0000 - val_loss: 0.7339 - val_accuracy: 0.5691 - val_precision: 0.5691 - val_recall: 1.0000\n"
          ]
        }
      ],
      "source": [
        "\n",
        "\n",
        "\n",
        "# Create a Sequential model\n",
        "model = Sequential()\n",
        "\n",
        "# Add a Conv2D layer with 32 filters and 3x3 kernel size\n",
        "model.add(Conv2D(filters=32,\n",
        "                 kernel_size=(3, 3),\n",
        "                 activation='relu',\n",
        "                 input_shape=(224, 224, 1)))\n",
        "\n",
        "# Add a MaxPooling2D layer with 2x2 pool size\n",
        "model.add(MaxPooling2D(pool_size=(2, 2)))\n",
        "\n",
        "# Add another Conv2D layer with 64 filters and 3x3 kernel size\n",
        "model.add(Conv2D(filters=64,\n",
        "                 kernel_size=(3, 3),\n",
        "                 activation='relu',\n",
        "                 kernel_regularizer=regularizers.l2(0.01)))\n",
        "\n",
        "# Add another MaxPooling2D layer with 2x2 pool size\n",
        "model.add(MaxPooling2D(pool_size=(2, 2)))\n",
        "\n",
        "# Add another Conv2D layer with 64 filters and 3x3 kernel size\n",
        "model.add(Conv2D(filters=64,\n",
        "                 kernel_size=(3, 3),\n",
        "                 activation='relu',\n",
        "                 kernel_regularizer=regularizers.l2(0.01)))\n",
        "\n",
        "# Flatten the output of the convolutional layers\n",
        "model.add(Flatten())\n",
        "\n",
        "# Add a Dense layer with 64 neurons and ReLU activation, with L2 regularization\n",
        "model.add(Dense(64, activation='relu', kernel_regularizer=regularizers.l2(0.01)))\n",
        "\n",
        "# Add the output layer\n",
        "model.add(Dense(1, activation='sigmoid'))\n",
        "\n",
        "# Define the optimizer with a learning rate of 0.01\n",
        "opt = optimizers.Adam(lr=0.01)\n",
        "\n",
        "# Compile the model with the defined optimizer\n",
        "model.compile(loss='binary_crossentropy',\n",
        "              optimizer=opt,\n",
        "              metrics=['accuracy', tf.keras.metrics.Precision(), tf.keras.metrics.Recall()])\n",
        "\n",
        "# Fit the model\n",
        "history = model.fit(X_train, y_train,\n",
        "                    epochs=10,\n",
        "                    batch_size=32,\n",
        "                    validation_data=(X_val, y_val))\n"
      ]
    },
    {
      "cell_type": "code",
      "execution_count": null,
      "metadata": {
        "colab": {
          "base_uri": "https://localhost:8080/"
        },
        "id": "zemUE4P5xNZk",
        "outputId": "18704703-4a64-4bb3-eb30-86ccd8a2f50d"
      },
      "outputs": [
        {
          "name": "stdout",
          "output_type": "stream",
          "text": [
            "60/60 [==============================] - 37s 609ms/step - loss: 0.7337 - accuracy: 0.5699 - precision: 0.5699 - recall: 1.0000\n",
            "Test loss: 0.7337233424186707\n",
            "Test accuracy: 0.5699319243431091\n",
            "Test precision: 0.5699319243431091\n",
            "Test recall: 1.0\n"
          ]
        }
      ],
      "source": [
        "loss, accuracy, precision, recall = model.evaluate(X_test, y_test)\n",
        "print(\"Test loss:\", loss)\n",
        "print(\"Test accuracy:\", accuracy)\n",
        "print(\"Test precision:\", precision)\n",
        "print(\"Test recall:\", recall)"
      ]
    },
    {
      "cell_type": "code",
      "execution_count": null,
      "metadata": {
        "colab": {
          "base_uri": "https://localhost:8080/",
          "height": 472
        },
        "id": "nfE3Dw4Ux4Gq",
        "outputId": "5b6440ac-d10f-4d3b-dc6b-8d04caac33f5"
      },
      "outputs": [
        {
          "data": {
            "image/png": "[encoded data removed]",
            "text/plain": [
              "<Figure size 640x480 with 1 Axes>"
            ]
          },
          "metadata": {},
          "output_type": "display_data"
        }
      ],
      "source": [
        "import matplotlib.pyplot as plt\n",
        "\n",
        "\n",
        "# Plot training and validation loss history\n",
        "train_loss = history.history['loss']\n",
        "val_loss = history.history['val_loss']\n",
        "\n",
        "plt.plot(train_loss, label='Train loss')\n",
        "plt.plot(val_loss, label='Val loss')\n",
        "plt.legend()\n",
        "plt.title('Training and Validation Loss')\n",
        "plt.xlabel('Epoch')\n",
        "plt.ylabel('Loss')\n",
        "plt.show()"
      ]
    },
    {
      "cell_type": "code",
      "execution_count": null,
      "metadata": {
        "id": "t4MB9LZnxN0r"
      },
      "outputs": [],
      "source": [
        "#next model to update filters from 32 to 64"
      ]
    },
    {
      "cell_type": "code",
      "execution_count": 11,
      "metadata": {
        "colab": {
          "base_uri": "https://localhost:8080/"
        },
        "id": "mZcUzOYSxOsp",
        "outputId": "498db786-a131-4272-8523-1bf05d7d3061"
      },
      "outputs": [
        {
          "output_type": "stream",
          "name": "stderr",
          "text": [
            "/usr/local/lib/python3.9/dist-packages/keras/optimizers/legacy/adam.py:117: UserWarning: The `lr` argument is deprecated, use `learning_rate` instead.\n",
            "  super().__init__(name, **kwargs)\n"
          ]
        },
        {
          "output_type": "stream",
          "name": "stdout",
          "text": [
            "Epoch 1/10\n",
            "191/191 [==============================] - 624s 3s/step - loss: 1.0622 - accuracy: 0.6891 - precision: 0.6986 - recall: 0.8163 - val_loss: 0.8861 - val_accuracy: 0.6588 - val_precision: 0.6287 - val_recall: 0.9781\n",
            "Epoch 2/10\n",
            "191/191 [==============================] - 624s 3s/step - loss: 0.6545 - accuracy: 0.7706 - precision: 0.7965 - recall: 0.8120 - val_loss: 0.5882 - val_accuracy: 0.8035 - val_precision: 0.8172 - val_recall: 0.8435\n",
            "Epoch 3/10\n",
            "191/191 [==============================] - 627s 3s/step - loss: 0.5745 - accuracy: 0.7942 - precision: 0.8144 - recall: 0.8357 - val_loss: 0.5322 - val_accuracy: 0.7996 - val_precision: 0.8117 - val_recall: 0.8435\n",
            "Epoch 4/10\n",
            "191/191 [==============================] - 623s 3s/step - loss: 0.5472 - accuracy: 0.7924 - precision: 0.8245 - recall: 0.8157 - val_loss: 0.5349 - val_accuracy: 0.7800 - val_precision: 0.7722 - val_recall: 0.8700\n",
            "Epoch 5/10\n",
            "191/191 [==============================] - 623s 3s/step - loss: 0.5067 - accuracy: 0.8034 - precision: 0.8355 - recall: 0.8230 - val_loss: 0.5682 - val_accuracy: 0.7597 - val_precision: 0.7217 - val_recall: 0.9402\n",
            "Epoch 6/10\n",
            "191/191 [==============================] - 627s 3s/step - loss: 0.4922 - accuracy: 0.8120 - precision: 0.8452 - recall: 0.8275 - val_loss: 0.4972 - val_accuracy: 0.8147 - val_precision: 0.8213 - val_recall: 0.8619\n",
            "Epoch 7/10\n",
            "191/191 [==============================] - 630s 3s/step - loss: 0.4809 - accuracy: 0.8215 - precision: 0.8468 - recall: 0.8453 - val_loss: 0.4882 - val_accuracy: 0.7924 - val_precision: 0.8247 - val_recall: 0.8067\n",
            "Epoch 8/10\n",
            "191/191 [==============================] - 620s 3s/step - loss: 0.4805 - accuracy: 0.8178 - precision: 0.8534 - recall: 0.8281 - val_loss: 0.4762 - val_accuracy: 0.8186 - val_precision: 0.8728 - val_recall: 0.7975\n",
            "Epoch 9/10\n",
            "191/191 [==============================] - 623s 3s/step - loss: 0.4812 - accuracy: 0.8201 - precision: 0.8485 - recall: 0.8397 - val_loss: 0.4582 - val_accuracy: 0.8238 - val_precision: 0.8538 - val_recall: 0.8331\n",
            "Epoch 10/10\n",
            "191/191 [==============================] - 622s 3s/step - loss: 0.4739 - accuracy: 0.8294 - precision: 0.8664 - recall: 0.8346 - val_loss: 0.4717 - val_accuracy: 0.8114 - val_precision: 0.8358 - val_recall: 0.8320\n"
          ]
        }
      ],
      "source": [
        "\n",
        "\n",
        "# Create a Sequential model\n",
        "model = Sequential()\n",
        "\n",
        "# Add a Conv2D layer with 64 filters and 3x3 kernel size\n",
        "model.add(Conv2D(filters=64,\n",
        "                 kernel_size=(3, 3),\n",
        "                 activation='relu',\n",
        "                 input_shape=(224, 224, 1)))\n",
        "\n",
        "# Add a MaxPooling2D layer with 2x2 pool size\n",
        "model.add(MaxPooling2D(pool_size=(2, 2)))\n",
        "\n",
        "# Add another Conv2D layer with 64 filters and 3x3 kernel size\n",
        "model.add(Conv2D(filters=64,\n",
        "                 kernel_size=(3, 3),\n",
        "                 activation='relu',\n",
        "                 kernel_regularizer=regularizers.l2(0.01)))\n",
        "\n",
        "# Add another MaxPooling2D layer with 2x2 pool size\n",
        "model.add(MaxPooling2D(pool_size=(2, 2)))\n",
        "\n",
        "# Add another Conv2D layer with 64 filters and 3x3 kernel size\n",
        "model.add(Conv2D(filters=64,\n",
        "                 kernel_size=(3, 3),\n",
        "                 activation='relu',\n",
        "                 kernel_regularizer=regularizers.l2(0.01)))\n",
        "\n",
        "# Flatten the output of the convolutional layers\n",
        "model.add(Flatten())\n",
        "\n",
        "# Add a Dense layer with 64 neurons and ReLU activation, with L2 regularization\n",
        "model.add(Dense(64, activation='relu', kernel_regularizer=regularizers.l2(0.01)))\n",
        "\n",
        "# Add the output layer\n",
        "model.add(Dense(1, activation='sigmoid'))\n",
        "\n",
        "# Define the optimizer with a learning rate of 0.001\n",
        "opt = optimizers.Adam(lr=0.001)\n",
        "\n",
        "# Compile the model with the defined optimizer\n",
        "model.compile(loss='binary_crossentropy',\n",
        "              optimizer=opt,\n",
        "              metrics=['accuracy', tf.keras.metrics.Precision(), tf.keras.metrics.Recall()])\n",
        "\n",
        "# Fit the model\n",
        "history = model.fit(X_train, y_train,\n",
        "                    epochs=10,\n",
        "                    batch_size=32,\n",
        "                    validation_data=(X_val, y_val))"
      ]
    },
    {
      "cell_type": "code",
      "execution_count": 12,
      "metadata": {
        "colab": {
          "base_uri": "https://localhost:8080/"
        },
        "id": "jHZC3UeODbjx",
        "outputId": "3e2623a5-7d74-4aff-dd40-6585eff0067c"
      },
      "outputs": [
        {
          "output_type": "stream",
          "name": "stdout",
          "text": [
            "60/60 [==============================] - 55s 900ms/step - loss: 0.4538 - accuracy: 0.8318 - precision: 0.8483 - recall: 0.8585\n",
            "Test loss: 0.45377692580223083\n",
            "Test accuracy: 0.8318491578102112\n",
            "Test precision: 0.8483197093009949\n",
            "Test recall: 0.8584558963775635\n"
          ]
        }
      ],
      "source": [
        "loss, accuracy, precision, recall = model.evaluate(X_test, y_test)\n",
        "print(\"Test loss:\", loss)\n",
        "print(\"Test accuracy:\", accuracy)\n",
        "print(\"Test precision:\", precision)\n",
        "print(\"Test recall:\", recall)"
      ]
    },
    {
      "cell_type": "code",
      "execution_count": 13,
      "metadata": {
        "id": "lclyEBggDe62",
        "colab": {
          "base_uri": "https://localhost:8080/",
          "height": 472
        },
        "outputId": "912f8ddf-ba64-46ec-cab5-c22905fd0298"
      },
      "outputs": [
        {
          "output_type": "display_data",
          "data": {
            "text/plain": [
              "<Figure size 640x480 with 1 Axes>"
            ],
            "image/png": "[encoded data removed]"
          },
          "metadata": {}
        }
      ],
      "source": [
        "\n",
        "\n",
        "\n",
        "# Plot training and validation loss history\n",
        "train_loss = history.history['loss']\n",
        "val_loss = history.history['val_loss']\n",
        "\n",
        "plt.plot(train_loss, label='Train loss')\n",
        "plt.plot(val_loss, label='Val loss')\n",
        "plt.legend()\n",
        "plt.title('Training and Validation Loss')\n",
        "plt.xlabel('Epoch')\n",
        "plt.ylabel('Loss')\n",
        "plt.show()"
      ]
    },
    {
      "cell_type": "markdown",
      "metadata": {
        "id": "eO078BWD8-1v"
      },
      "source": [
        "Model 1: Achieved an accuracy of 43.01% on the test set with 0.0 test loss, indicating that the model has overfit to the training data and is unable to generalize to new data.\n",
        "\n",
        "Model 2: Achieved an accuracy of 90.83% on the test set, with a test loss of 0.3501. It also achieved high precision and recall scores, indicating that it is able to correctly identify positive cases of COVID-19 with high confidence.\n",
        "\n",
        "Model 3: Achieved an accuracy of 83.97% on the test set, with a precision of 86.41% and a recall of 85.29%. The test accuracy and precision are slightly lower, which suggests that the model may be overfitting to the training data still but much improved for overfitting over model 2. \n",
        "\n",
        "Model 4: Achieved an accuracy of 56.99% on the test set, with a precision of 56.99% and a recall of 100%. This model performed poorly and was not able to correctly identify positive cases of COVID-19. This is a very poor model. \n",
        "\n",
        "Model 5: Achieved an accuracy of 83.18% on the test set, with a precision of 84.83% and a recall of 85.85%. This model achieved moderate accuracy, precision, and recall, indicating that it is able to correctly identify positive cases of COVID-19, but not with high confidence. The precision score is slightly lower than the recall score, which suggests that the model may be making more false positive predictions than false negative predictions. Since we are optimizing for avoid false negative predictions, we will select this one as final. "
      ]
    },
    {
      "cell_type": "code",
      "execution_count": null,
      "metadata": {
        "id": "wjnulaB48_W-"
      },
      "outputs": [],
      "source": []
    }
  ],
  "metadata": {
    "colab": {
      "provenance": []
    },
    "kernelspec": {
      "display_name": "Python 3",
      "name": "python3"
    },
    "language_info": {
      "name": "python"
    }
  },
  "nbformat": 4,
  "nbformat_minor": 0
}
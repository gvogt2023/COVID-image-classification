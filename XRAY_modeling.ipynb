{
  "cells": [
    {
      "cell_type": "code",
      "execution_count": 6,
      "metadata": {
        "colab": {
          "base_uri": "https://localhost:8080/"
        },
        "id": "vbGCnamuwYOG",
        "outputId": "2c5b17d6-79ea-4f13-b885-7ff026c36e63"
      },
      "outputs": [
        {
          "output_type": "stream",
          "name": "stdout",
          "text": [
            "Mounted at /content/gdrive\n"
          ]
        }
      ],
      "source": [
        "import os\n",
        "from google.colab import drive\n",
        "\n",
        "# Mount Google Drive\n",
        "drive.mount('/content/gdrive')"
      ]
    },
    {
      "cell_type": "code",
      "execution_count": 7,
      "metadata": {
        "colab": {
          "base_uri": "https://localhost:8080/"
        },
        "id": "qVTND4WS0J9r",
        "outputId": "52acc638-d773-4dc7-e445-158f44bb5c18"
      },
      "outputs": [
        {
          "output_type": "stream",
          "name": "stdout",
          "text": [
            "Mounted at /content/drive\n"
          ]
        }
      ],
      "source": [
        "from google.colab import drive\n",
        "drive.mount('/content/drive')\n"
      ]
    },
    {
      "cell_type": "code",
      "source": [
        "import os\n",
        "import numpy as np\n",
        "from sklearn.preprocessing import LabelBinarizer\n",
        "from keras.models import Sequential\n",
        "from keras.layers import Conv2D, MaxPooling2D, Flatten, Dense\n",
        "from keras.callbacks import EarlyStopping\n",
        "from keras import regularizers, optimizers\n",
        "import tensorflow as tf\n",
        "import matplotlib.pyplot as plt"
      ],
      "metadata": {
        "id": "5_azbFO5RGNC"
      },
      "execution_count": 8,
      "outputs": []
    },
    {
      "cell_type": "code",
      "execution_count": 9,
      "metadata": {
        "id": "S_dFDiSv0cdF"
      },
      "outputs": [],
      "source": [
        "\n",
        "\n",
        "data_dir = '/content/drive/MyDrive/Image Classification Data'\n",
        "xray_labels = np.load(os.path.join(data_dir, 'xray_labels.npy'))\n",
        "xray_data = np.load(os.path.join(data_dir, 'xray_data.npy'))"
      ]
    },
    {
      "cell_type": "code",
      "execution_count": 10,
      "metadata": {
        "id": "-eEHFRXigR9T"
      },
      "outputs": [],
      "source": [
        "from sklearn.model_selection import train_test_split\n",
        "\n",
        "# Split the dataset into training and testing sets\n",
        "X_train, X_test, y_train, y_test = train_test_split(xray_data, xray_labels, test_size=0.2, random_state=42)\n",
        "\n",
        "# Split the training set into training and validation sets\n",
        "X_train, X_val, y_train, y_val = train_test_split(X_train, y_train, test_size=0.2, random_state=42)\n"
      ]
    },
    {
      "cell_type": "code",
      "execution_count": 11,
      "metadata": {
        "colab": {
          "base_uri": "https://localhost:8080/"
        },
        "id": "GB-oTtTeh1KF",
        "outputId": "bcefcc99-bc84-4a40-fe52-96ac5b5a1f8f"
      },
      "outputs": [
        {
          "output_type": "stream",
          "name": "stdout",
          "text": [
            "Training set shape: (6108, 224, 224)\n",
            "Validation set shape: (1527, 224, 224)\n",
            "Testing set shape: (1909, 224, 224)\n"
          ]
        }
      ],
      "source": [
        "\n",
        "print(\"Training set shape:\", X_train.shape)\n",
        "print(\"Validation set shape:\", X_val.shape)\n",
        "print(\"Testing set shape:\", X_test.shape)\n"
      ]
    },
    {
      "cell_type": "code",
      "execution_count": 12,
      "metadata": {
        "colab": {
          "base_uri": "https://localhost:8080/"
        },
        "id": "q_PKj3FEpwab",
        "outputId": "1c05dc22-1fd9-4e66-833d-7fb553b2cddf"
      },
      "outputs": [
        {
          "output_type": "stream",
          "name": "stdout",
          "text": [
            "Training set shape: (6108,)\n",
            "Validation set shape: (1527,)\n",
            "Testing set shape: (1909,)\n"
          ]
        }
      ],
      "source": [
        "print(\"Training set shape:\", y_train.shape)\n",
        "print(\"Validation set shape:\", y_val.shape)\n",
        "print(\"Testing set shape:\", y_test.shape)"
      ]
    },
    {
      "cell_type": "code",
      "execution_count": 13,
      "metadata": {
        "id": "YxV0piw5pg1v"
      },
      "outputs": [],
      "source": [
        "\n",
        "\n",
        "# Convert class labels to binary format\n",
        "lb = LabelBinarizer()\n",
        "y_train = lb.fit_transform(y_train)\n",
        "y_val = lb.transform(y_val)\n",
        "y_test = lb.transform(y_test)\n"
      ]
    },
    {
      "cell_type": "code",
      "execution_count": 14,
      "metadata": {
        "colab": {
          "base_uri": "https://localhost:8080/"
        },
        "id": "vRLW0SMBq1mP",
        "outputId": "01e47625-c19b-4f20-d701-8aa3b73a27c9"
      },
      "outputs": [
        {
          "output_type": "execute_result",
          "data": {
            "text/plain": [
              "array([[1],\n",
              "       [1],\n",
              "       [0],\n",
              "       ...,\n",
              "       [1],\n",
              "       [1],\n",
              "       [1]])"
            ]
          },
          "metadata": {},
          "execution_count": 14
        }
      ],
      "source": [
        "y_train"
      ]
    },
    {
      "cell_type": "code",
      "execution_count": null,
      "metadata": {
        "colab": {
          "base_uri": "https://localhost:8080/"
        },
        "id": "pg16NaPLOzmi",
        "outputId": "edb5e563-b0fa-4f0a-c7b4-9e2399ed2254"
      },
      "outputs": [
        {
          "output_type": "stream",
          "name": "stdout",
          "text": [
            "Epoch 1/50\n"
          ]
        },
        {
          "output_type": "stream",
          "name": "stderr",
          "text": [
            "/usr/local/lib/python3.9/dist-packages/tensorflow/python/util/dispatch.py:1176: SyntaxWarning: In loss categorical_crossentropy, expected y_pred.shape to be (batch_size, num_classes) with num_classes > 1. Received: y_pred.shape=(None, 1). Consider using 'binary_crossentropy' if you only have 2 classes.\n",
            "  return dispatch_target(*args, **kwargs)\n"
          ]
        },
        {
          "output_type": "stream",
          "name": "stdout",
          "text": [
            "96/96 [==============================] - 619s 6s/step - loss: 0.0000e+00 - accuracy: 0.4219 - val_loss: 0.0000e+00 - val_accuracy: 0.4309\n",
            "Epoch 2/50\n",
            "96/96 [==============================] - 594s 6s/step - loss: 0.0000e+00 - accuracy: 0.4199 - val_loss: 0.0000e+00 - val_accuracy: 0.4309\n",
            "Epoch 3/50\n",
            "96/96 [==============================] - 601s 6s/step - loss: 0.0000e+00 - accuracy: 0.4199 - val_loss: 0.0000e+00 - val_accuracy: 0.4309\n",
            "Epoch 4/50\n",
            "96/96 [==============================] - 596s 6s/step - loss: 0.0000e+00 - accuracy: 0.4199 - val_loss: 0.0000e+00 - val_accuracy: 0.4309\n",
            "Epoch 5/50\n",
            "96/96 [==============================] - 597s 6s/step - loss: 0.0000e+00 - accuracy: 0.4199 - val_loss: 0.0000e+00 - val_accuracy: 0.4309\n",
            "Epoch 6/50\n",
            "96/96 [==============================] - 601s 6s/step - loss: 0.0000e+00 - accuracy: 0.4199 - val_loss: 0.0000e+00 - val_accuracy: 0.4309\n"
          ]
        }
      ],
      "source": [
        "\n",
        "\n",
        "# Build a baseline fully connected model\n",
        "baseline_model = Sequential()\n",
        "baseline_model._name = \"Baseline\"\n",
        "\n",
        "\n",
        "# Add a Conv2D layer with 32 filters and 3x3 kernel size\n",
        "baseline_model.add(Conv2D(filters=32,\n",
        "                 kernel_size=(3, 3),\n",
        "                 activation='relu',\n",
        "                 input_shape=(224, 224, 1)))\n",
        "\n",
        "# Add a MaxPooling2D layer with 2x2 pool size\n",
        "baseline_model.add(MaxPooling2D(pool_size=(2, 2)))\n",
        "\n",
        "# Add another Conv2D layer with 64 filters and 3x3 kernel size\n",
        "baseline_model.add(Conv2D(filters=64,\n",
        "                 kernel_size=(3, 3),\n",
        "                 activation='relu'))\n",
        "\n",
        "# Flatten the output of the convolutional layers\n",
        "baseline_model.add(Flatten())\n",
        "\n",
        "\n",
        "baseline_model.add(Dense(16, activation='relu')) \n",
        "\n",
        "baseline_model.add(Dense(1, activation='sigmoid')) \n",
        "\n",
        "# Define early stopping callback\n",
        "trainCallback = EarlyStopping(monitor='accuracy', min_delta=1e-2, patience=5)\n",
        "\n",
        "\n",
        "model.compile(loss='binary_crossentropy', optimizer='adam', metrics=['accuracy', tf.keras.metrics.Precision(), tf.keras.metrics.Recall()])\n",
        ")\n",
        "\n",
        "baseline = baseline_model.fit(X_train, y_train,\n",
        "                   epochs=50,\n",
        "                   batch_size=64,\n",
        "                   validation_data=(X_val, y_val),\n",
        "                   callbacks=[trainCallback])\n"
      ]
    },
    {
      "cell_type": "code",
      "execution_count": null,
      "metadata": {
        "colab": {
          "base_uri": "https://localhost:8080/"
        },
        "id": "6kIW9EcUfi6p",
        "outputId": "7e5b4552-916a-495b-e2c6-768e4723e175"
      },
      "outputs": [
        {
          "output_type": "stream",
          "name": "stdout",
          "text": [
            "60/60 [==============================] - 50s 833ms/step - loss: 0.0000e+00 - accuracy: 0.4301\n",
            "Test loss: 0.0\n",
            "Test accuracy: 0.43006810545921326\n"
          ]
        }
      ],
      "source": [
        "loss, accuracy, precision, recall, f1_score = model.evaluate(X_test, y_test)\n",
        "print(\"Test loss:\", loss)\n",
        "print(\"Test accuracy:\", accuracy)\n",
        "print(\"Test precision:\", precision)\n",
        "print(\"Test recall:\", recall)\n"
      ]
    },
    {
      "cell_type": "code",
      "execution_count": null,
      "metadata": {
        "colab": {
          "base_uri": "https://localhost:8080/",
          "height": 472
        },
        "id": "U5qs_gScflGA",
        "outputId": "fffba30d-1b02-4dd6-f7fc-3d610f27a4f1"
      },
      "outputs": [
        {
          "output_type": "display_data",
          "data": {
            "text/plain": [
              "<Figure size 640x480 with 1 Axes>"
            ],
            "image/png": "[encoded data removed]"
          },
          "metadata": {}
        }
      ],
      "source": [
        "\n",
        "\n",
        "# Plot training and validation loss history\n",
        "history = baseline.history\n",
        "train_loss = history['loss']\n",
        "val_loss = history['val_loss']\n",
        "\n",
        "plt.plot(train_loss, label='Train loss')\n",
        "plt.plot(val_loss, label='Val loss')\n",
        "plt.legend()\n",
        "plt.title('Baseline Training and Validation Loss')\n",
        "plt.xlabel('Epoch')\n",
        "plt.ylabel('Loss')\n",
        "plt.show()\n",
        "\n"
      ]
    },
    {
      "cell_type": "code",
      "execution_count": null,
      "metadata": {
        "colab": {
          "base_uri": "https://localhost:8080/"
        },
        "id": "FwRZbxHto-pT",
        "outputId": "d654f6f7-2e9b-4452-b779-1dcc905f6547"
      },
      "outputs": [
        {
          "output_type": "stream",
          "name": "stdout",
          "text": [
            "Epoch 1/10\n",
            "191/191 [==============================] - 811s 4s/step - loss: 0.4994 - accuracy: 0.7565 - val_loss: 0.3774 - val_accuracy: 0.8382\n",
            "Epoch 2/10\n",
            "191/191 [==============================] - 812s 4s/step - loss: 0.3158 - accuracy: 0.8651 - val_loss: 0.3121 - val_accuracy: 0.8749\n",
            "Epoch 3/10\n",
            "191/191 [==============================] - 773s 4s/step - loss: 0.2268 - accuracy: 0.9062 - val_loss: 0.2776 - val_accuracy: 0.8926\n",
            "Epoch 4/10\n",
            "191/191 [==============================] - 773s 4s/step - loss: 0.1710 - accuracy: 0.9301 - val_loss: 0.2780 - val_accuracy: 0.9018\n",
            "Epoch 5/10\n",
            "191/191 [==============================] - 806s 4s/step - loss: 0.1387 - accuracy: 0.9476 - val_loss: 0.2915 - val_accuracy: 0.9083\n",
            "Epoch 6/10\n",
            "191/191 [==============================] - 806s 4s/step - loss: 0.1045 - accuracy: 0.9612 - val_loss: 0.3002 - val_accuracy: 0.9044\n",
            "Epoch 7/10\n",
            "191/191 [==============================] - 771s 4s/step - loss: 0.0858 - accuracy: 0.9686 - val_loss: 0.3328 - val_accuracy: 0.9064\n",
            "Epoch 8/10\n",
            "191/191 [==============================] - 788s 4s/step - loss: 0.0693 - accuracy: 0.9735 - val_loss: 0.3049 - val_accuracy: 0.9057\n",
            "Epoch 9/10\n",
            "191/191 [==============================] - 778s 4s/step - loss: 0.0618 - accuracy: 0.9787 - val_loss: 0.3498 - val_accuracy: 0.9109\n",
            "Epoch 10/10\n",
            "191/191 [==============================] - 798s 4s/step - loss: 0.0532 - accuracy: 0.9808 - val_loss: 0.4161 - val_accuracy: 0.8965\n"
          ]
        }
      ],
      "source": [
        "\n",
        "\n",
        "# Create a Sequential model\n",
        "model = Sequential()\n",
        "\n",
        "# Add a Conv2D layer with 32 filters and 3x3 kernel size\n",
        "model.add(Conv2D(filters=32,\n",
        "                 kernel_size=(3, 3),\n",
        "                 activation='relu',\n",
        "                 input_shape=(224, 224, 1)))\n",
        "\n",
        "# Add a MaxPooling2D layer with 2x2 pool size\n",
        "model.add(MaxPooling2D(pool_size=(2, 2)))\n",
        "\n",
        "# Add another Conv2D layer with 64 filters and 3x3 kernel size\n",
        "model.add(Conv2D(filters=64,\n",
        "                 kernel_size=(3, 3),\n",
        "                 activation='relu'))\n",
        "\n",
        "\n",
        "# Add another MaxPooling2D layer with 2x2 pool size\n",
        "model.add(MaxPooling2D(pool_size=(2, 2)))\n",
        "\n",
        "# Add another Conv2D layer with 64 filters and 3x3 kernel size\n",
        "model.add(Conv2D(filters=64,\n",
        "                 kernel_size=(3, 3),\n",
        "                 activation='relu'))\n",
        "\n",
        "# Flatten the output of the convolutional layers\n",
        "model.add(Flatten())\n",
        "\n",
        "# Add a Dense layer with 64 neurons and ReLU activation\n",
        "model.add(Dense(64, activation='relu'))\n",
        "\n",
        "model.add(Dense(1, activation='sigmoid'))\n",
        "\n",
        "# Compile the model\n",
        "model.compile(loss='binary_crossentropy', optimizer='adam', metrics=['accuracy', tf.keras.metrics.Precision(), tf.keras.metrics.Recall()])\n",
        "\n",
        "\n",
        "history = model.fit(X_train, y_train,\n",
        "                    epochs=10,\n",
        "                    batch_size=32,\n",
        "                    validation_data=(X_val, y_val))"
      ]
    },
    {
      "cell_type": "code",
      "execution_count": null,
      "metadata": {
        "colab": {
          "base_uri": "https://localhost:8080/"
        },
        "id": "5m2q4PDK_Tgo",
        "outputId": "1d18061c-501e-4680-d2e5-ded9f234661b"
      },
      "outputs": [
        {
          "output_type": "stream",
          "name": "stdout",
          "text": [
            "60/60 [==============================] - 60s 996ms/step - loss: 0.3999 - accuracy: 0.8989\n",
            "Test loss: 0.3999139964580536\n",
            "Test accuracy: 0.8988999724388123\n"
          ]
        }
      ],
      "source": [
        "loss, accuracy, precision, recall, f1_score = model.evaluate(X_test, y_test)\n",
        "print(\"Test loss:\", loss)\n",
        "print(\"Test accuracy:\", accuracy)\n",
        "print(\"Test precision:\", precision)\n",
        "print(\"Test recall:\", recall)\n"
      ]
    },
    {
      "cell_type": "code",
      "execution_count": null,
      "metadata": {
        "colab": {
          "base_uri": "https://localhost:8080/",
          "height": 472
        },
        "id": "v3lV3syYOeQ0",
        "outputId": "42424aaa-33e6-4ede-ed4c-6f81797b478e"
      },
      "outputs": [
        {
          "output_type": "display_data",
          "data": {
            "text/plain": [
              "<Figure size 640x480 with 1 Axes>"
            ],
            "image/png": "[encoded data removed]"
          },
          "metadata": {}
        }
      ],
      "source": [
        "\n",
        "\n",
        "\n",
        "# Plot training and validation loss history\n",
        "train_loss = history.history['loss']\n",
        "val_loss = history.history['val_loss']\n",
        "\n",
        "plt.plot(train_loss, label='Train loss')\n",
        "plt.plot(val_loss, label='Val loss')\n",
        "plt.legend()\n",
        "plt.title('Training and Validation Loss')\n",
        "plt.xlabel('Epoch')\n",
        "plt.ylabel('Loss')\n",
        "plt.show()\n"
      ]
    },
    {
      "cell_type": "code",
      "execution_count": null,
      "metadata": {
        "id": "5hOtd8wnvxeb"
      },
      "outputs": [],
      "source": [
        "# overfitting -- so adding L2 regularization"
      ]
    },
    {
      "cell_type": "code",
      "execution_count": null,
      "metadata": {
        "colab": {
          "base_uri": "https://localhost:8080/"
        },
        "id": "E51zTcfywruH",
        "outputId": "4b50c421-d4a9-4bcd-f667-c75d9136cc2a"
      },
      "outputs": [
        {
          "output_type": "stream",
          "name": "stdout",
          "text": [
            "Epoch 1/10\n",
            "191/191 [==============================] - 857s 4s/step - loss: 1.1450 - accuracy: 0.7073 - precision_1: 0.7231 - recall_1: 0.8027 - val_loss: 0.8321 - val_accuracy: 0.7597 - val_precision_1: 0.9211 - val_recall_1: 0.6318\n",
            "Epoch 2/10\n",
            "191/191 [==============================] - 815s 4s/step - loss: 0.7483 - accuracy: 0.7711 - precision_1: 0.8012 - recall_1: 0.8052 - val_loss: 0.6968 - val_accuracy: 0.7787 - val_precision_1: 0.8899 - val_recall_1: 0.6974\n",
            "Epoch 3/10\n",
            "191/191 [==============================] - 831s 4s/step - loss: 0.6166 - accuracy: 0.8003 - precision_1: 0.8225 - recall_1: 0.8360 - val_loss: 0.5866 - val_accuracy: 0.7931 - val_precision_1: 0.8055 - val_recall_1: 0.8389\n",
            "Epoch 4/10\n",
            "191/191 [==============================] - 808s 4s/step - loss: 0.5683 - accuracy: 0.8024 - precision_1: 0.8268 - recall_1: 0.8340 - val_loss: 0.5617 - val_accuracy: 0.7859 - val_precision_1: 0.7591 - val_recall_1: 0.9137\n",
            "Epoch 5/10\n",
            "191/191 [==============================] - 750s 4s/step - loss: 0.5270 - accuracy: 0.8114 - precision_1: 0.8411 - recall_1: 0.8321 - val_loss: 0.4996 - val_accuracy: 0.8147 - val_precision_1: 0.8556 - val_recall_1: 0.8113\n",
            "Epoch 6/10\n",
            "191/191 [==============================] - 748s 4s/step - loss: 0.5093 - accuracy: 0.8233 - precision_1: 0.8563 - recall_1: 0.8357 - val_loss: 0.4937 - val_accuracy: 0.8166 - val_precision_1: 0.8097 - val_recall_1: 0.8861\n",
            "Epoch 7/10\n",
            "191/191 [==============================] - 745s 4s/step - loss: 0.4964 - accuracy: 0.8261 - precision_1: 0.8533 - recall_1: 0.8456 - val_loss: 0.4988 - val_accuracy: 0.8454 - val_precision_1: 0.8912 - val_recall_1: 0.8297\n",
            "Epoch 8/10\n",
            "191/191 [==============================] - 743s 4s/step - loss: 0.4936 - accuracy: 0.8253 - precision_1: 0.8517 - recall_1: 0.8462 - val_loss: 0.5495 - val_accuracy: 0.7924 - val_precision_1: 0.9381 - val_recall_1: 0.6801\n",
            "Epoch 9/10\n",
            "191/191 [==============================] - 734s 4s/step - loss: 0.4894 - accuracy: 0.8253 - precision_1: 0.8541 - recall_1: 0.8428 - val_loss: 0.4863 - val_accuracy: 0.8291 - val_precision_1: 0.8819 - val_recall_1: 0.8078\n",
            "Epoch 10/10\n",
            "191/191 [==============================] - 681s 4s/step - loss: 0.4789 - accuracy: 0.8422 - precision_1: 0.8687 - recall_1: 0.8575 - val_loss: 0.4438 - val_accuracy: 0.8487 - val_precision_1: 0.8667 - val_recall_1: 0.8677\n"
          ]
        }
      ],
      "source": [
        "\n",
        "\n",
        "# Create a Sequential model\n",
        "model = Sequential()\n",
        "\n",
        "# Add a Conv2D layer with 32 filters and 3x3 kernel size\n",
        "model.add(Conv2D(filters=32,\n",
        "                 kernel_size=(3, 3),\n",
        "                 activation='relu',\n",
        "                 input_shape=(224, 224, 1)))\n",
        "\n",
        "# Add a MaxPooling2D layer with 2x2 pool size\n",
        "model.add(MaxPooling2D(pool_size=(2, 2)))\n",
        "\n",
        "# Add another Conv2D layer with 64 filters and 3x3 kernel size\n",
        "model.add(Conv2D(filters=64,\n",
        "                 kernel_size=(3, 3),\n",
        "                 activation='relu',\n",
        "                 kernel_regularizer=regularizers.l2(0.01)))\n",
        "\n",
        "# Add another MaxPooling2D layer with 2x2 pool size\n",
        "model.add(MaxPooling2D(pool_size=(2, 2)))\n",
        "\n",
        "# Add another Conv2D layer with 64 filters and 3x3 kernel size\n",
        "model.add(Conv2D(filters=64,\n",
        "                 kernel_size=(3, 3),\n",
        "                 activation='relu',\n",
        "                 kernel_regularizer=regularizers.l2(0.01)))\n",
        "\n",
        "# Flatten the output of the convolutional layers\n",
        "model.add(Flatten())\n",
        "\n",
        "# Add a Dense layer with 64 neurons and ReLU activation, with L2 regularization\n",
        "model.add(Dense(64, activation='relu', kernel_regularizer=regularizers.l2(0.01)))\n",
        "\n",
        "# Add the output layer\n",
        "model.add(Dense(1, activation='sigmoid'))\n",
        "\n",
        "# Compile the model\n",
        "model.compile(loss='binary_crossentropy', optimizer='adam', metrics=['accuracy', tf.keras.metrics.Precision(), tf.keras.metrics.Recall()])\n",
        "\n",
        "\n",
        "# Fit the model\n",
        "history = model.fit(X_train, y_train,\n",
        "                    epochs=10,\n",
        "                    batch_size=32,\n",
        "                    validation_data=(X_val, y_val))\n",
        "\n"
      ]
    },
    {
      "cell_type": "code",
      "execution_count": null,
      "metadata": {
        "colab": {
          "base_uri": "https://localhost:8080/",
          "height": 236
        },
        "id": "768uRSIMQrYl",
        "outputId": "3a0f3141-c0bf-4540-8295-524d30eb5617"
      },
      "outputs": [
        {
          "output_type": "error",
          "ename": "NameError",
          "evalue": "ignored",
          "traceback": [
            "\u001b[0;31m---------------------------------------------------------------------------\u001b[0m",
            "\u001b[0;31mNameError\u001b[0m                                 Traceback (most recent call last)",
            "\u001b[0;32m<ipython-input-2-b4b3251b2559>\u001b[0m in \u001b[0;36m<cell line: 1>\u001b[0;34m()\u001b[0m\n\u001b[0;32m----> 1\u001b[0;31m \u001b[0mloss\u001b[0m\u001b[0;34m,\u001b[0m \u001b[0maccuracy\u001b[0m\u001b[0;34m,\u001b[0m \u001b[0mprecision\u001b[0m\u001b[0;34m,\u001b[0m \u001b[0mrecall\u001b[0m \u001b[0;34m=\u001b[0m \u001b[0mhistory\u001b[0m\u001b[0;34m.\u001b[0m\u001b[0mevaluate\u001b[0m\u001b[0;34m(\u001b[0m\u001b[0mX_test\u001b[0m\u001b[0;34m,\u001b[0m \u001b[0my_test\u001b[0m\u001b[0;34m)\u001b[0m\u001b[0;34m\u001b[0m\u001b[0;34m\u001b[0m\u001b[0m\n\u001b[0m\u001b[1;32m      2\u001b[0m \u001b[0mprint\u001b[0m\u001b[0;34m(\u001b[0m\u001b[0;34m\"Test loss:\"\u001b[0m\u001b[0;34m,\u001b[0m \u001b[0mloss\u001b[0m\u001b[0;34m)\u001b[0m\u001b[0;34m\u001b[0m\u001b[0;34m\u001b[0m\u001b[0m\n\u001b[1;32m      3\u001b[0m \u001b[0mprint\u001b[0m\u001b[0;34m(\u001b[0m\u001b[0;34m\"Test accuracy:\"\u001b[0m\u001b[0;34m,\u001b[0m \u001b[0maccuracy\u001b[0m\u001b[0;34m)\u001b[0m\u001b[0;34m\u001b[0m\u001b[0;34m\u001b[0m\u001b[0m\n\u001b[1;32m      4\u001b[0m \u001b[0mprint\u001b[0m\u001b[0;34m(\u001b[0m\u001b[0;34m\"Test precision:\"\u001b[0m\u001b[0;34m,\u001b[0m \u001b[0mprecision\u001b[0m\u001b[0;34m)\u001b[0m\u001b[0;34m\u001b[0m\u001b[0;34m\u001b[0m\u001b[0m\n\u001b[1;32m      5\u001b[0m \u001b[0mprint\u001b[0m\u001b[0;34m(\u001b[0m\u001b[0;34m\"Test recall:\"\u001b[0m\u001b[0;34m,\u001b[0m \u001b[0mrecall\u001b[0m\u001b[0;34m)\u001b[0m\u001b[0;34m\u001b[0m\u001b[0;34m\u001b[0m\u001b[0m\n",
            "\u001b[0;31mNameError\u001b[0m: name 'history' is not defined"
          ]
        }
      ],
      "source": [
        "loss, accuracy, precision, recall = model.evaluate(X_test, y_test)\n",
        "print(\"Test loss:\", loss)\n",
        "print(\"Test accuracy:\", accuracy)\n",
        "print(\"Test precision:\", precision)\n",
        "print(\"Test recall:\", recall)\n"
      ]
    },
    {
      "cell_type": "code",
      "execution_count": null,
      "metadata": {
        "id": "TJ4Ah5LdSJks"
      },
      "outputs": [],
      "source": [
        "import matplotlib.pyplot as plt\n",
        "\n",
        "\n",
        "# Plot training and validation loss history\n",
        "train_loss = history.history['loss']\n",
        "val_loss = history.history['val_loss']\n",
        "\n",
        "plt.plot(train_loss, label='Train loss')\n",
        "plt.plot(val_loss, label='Val loss')\n",
        "plt.legend()\n",
        "plt.title('Training and Validation Loss')\n",
        "plt.xlabel('Epoch')\n",
        "plt.ylabel('Loss')\n",
        "plt.show()\n"
      ]
    },
    {
      "cell_type": "code",
      "execution_count": null,
      "metadata": {
        "id": "AX4QOTInXQz7",
        "colab": {
          "base_uri": "https://localhost:8080/"
        },
        "outputId": "5b9002d0-de2f-4a9a-e1db-26607fe10223"
      },
      "outputs": [
        {
          "output_type": "stream",
          "name": "stdout",
          "text": [
            "Epoch 1/10\n",
            "191/191 [==============================] - 668s 3s/step - loss: 4.8690 - accuracy: 0.5727 - precision: 0.5797 - recall: 0.9574 - val_loss: 0.9840 - val_accuracy: 0.5691 - val_precision: 0.5691 - val_recall: 1.0000\n",
            "Epoch 2/10\n",
            "191/191 [==============================] - 624s 3s/step - loss: 0.9096 - accuracy: 0.5801 - precision: 0.5801 - recall: 1.0000 - val_loss: 0.8572 - val_accuracy: 0.5691 - val_precision: 0.5691 - val_recall: 1.0000\n",
            "Epoch 3/10\n",
            "191/191 [==============================] - 612s 3s/step - loss: 0.8160 - accuracy: 0.5801 - precision: 0.5801 - recall: 1.0000 - val_loss: 0.7876 - val_accuracy: 0.5691 - val_precision: 0.5691 - val_recall: 1.0000\n",
            "Epoch 4/10\n",
            "191/191 [==============================] - 607s 3s/step - loss: 0.7632 - accuracy: 0.5801 - precision: 0.5801 - recall: 1.0000 - val_loss: 0.7481 - val_accuracy: 0.5691 - val_precision: 0.5691 - val_recall: 1.0000\n",
            "Epoch 5/10\n",
            "191/191 [==============================] - 605s 3s/step - loss: 0.7318 - accuracy: 0.5801 - precision: 0.5801 - recall: 1.0000 - val_loss: 0.7249 - val_accuracy: 0.5691 - val_precision: 0.5691 - val_recall: 1.0000\n",
            "Epoch 6/10\n",
            "191/191 [==============================] - 606s 3s/step - loss: 0.7132 - accuracy: 0.5801 - precision: 0.5801 - recall: 1.0000 - val_loss: 0.7099 - val_accuracy: 0.5691 - val_precision: 0.5691 - val_recall: 1.0000\n",
            "Epoch 7/10\n",
            "191/191 [==============================] - 605s 3s/step - loss: 0.7044 - accuracy: 0.5801 - precision: 0.5801 - recall: 1.0000 - val_loss: 0.7160 - val_accuracy: 0.5691 - val_precision: 0.5691 - val_recall: 1.0000\n",
            "Epoch 8/10\n",
            "191/191 [==============================] - 605s 3s/step - loss: 0.7023 - accuracy: 0.5801 - precision: 0.5801 - recall: 1.0000 - val_loss: 0.6997 - val_accuracy: 0.5691 - val_precision: 0.5691 - val_recall: 1.0000\n",
            "Epoch 9/10\n",
            " 26/191 [===>..........................] - ETA: 8:05 - loss: 0.6998 - accuracy: 0.5685 - precision: 0.5685 - recall: 1.0000"
          ]
        }
      ],
      "source": [
        "\n",
        "\n",
        "\n",
        "# Create a Sequential model\n",
        "model = Sequential()\n",
        "\n",
        "# Add a Conv2D layer with 32 filters and 3x3 kernel size\n",
        "model.add(Conv2D(filters=32,\n",
        "                 kernel_size=(3, 3),\n",
        "                 activation='relu',\n",
        "                 input_shape=(224, 224, 1)))\n",
        "\n",
        "# Add a MaxPooling2D layer with 2x2 pool size\n",
        "model.add(MaxPooling2D(pool_size=(2, 2)))\n",
        "\n",
        "# Add another Conv2D layer with 64 filters and 3x3 kernel size\n",
        "model.add(Conv2D(filters=64,\n",
        "                 kernel_size=(3, 3),\n",
        "                 activation='relu',\n",
        "                 kernel_regularizer=regularizers.l2(0.01)))\n",
        "\n",
        "# Add another MaxPooling2D layer with 2x2 pool size\n",
        "model.add(MaxPooling2D(pool_size=(2, 2)))\n",
        "\n",
        "# Add another Conv2D layer with 64 filters and 3x3 kernel size\n",
        "model.add(Conv2D(filters=64,\n",
        "                 kernel_size=(3, 3),\n",
        "                 activation='relu',\n",
        "                 kernel_regularizer=regularizers.l2(0.01)))\n",
        "\n",
        "# Flatten the output of the convolutional layers\n",
        "model.add(Flatten())\n",
        "\n",
        "# Add a Dense layer with 64 neurons and ReLU activation, with L2 regularization\n",
        "model.add(Dense(64, activation='relu', kernel_regularizer=regularizers.l2(0.01)))\n",
        "\n",
        "# Add the output layer\n",
        "model.add(Dense(1, activation='sigmoid'))\n",
        "\n",
        "# Define the optimizer with a learning rate of 0.01\n",
        "opt = optimizers.Adam(lr=0.01)\n",
        "\n",
        "# Compile the model with the defined optimizer\n",
        "model.compile(loss='binary_crossentropy',\n",
        "              optimizer=opt,\n",
        "              metrics=['accuracy', tf.keras.metrics.Precision(), tf.keras.metrics.Recall()])\n",
        "\n",
        "# Fit the model\n",
        "history = model.fit(X_train, y_train,\n",
        "                    epochs=10,\n",
        "                    batch_size=32,\n",
        "                    validation_data=(X_val, y_val))\n"
      ]
    },
    {
      "cell_type": "code",
      "execution_count": 1,
      "metadata": {
        "id": "zemUE4P5xNZk",
        "colab": {
          "base_uri": "https://localhost:8080/",
          "height": 236
        },
        "outputId": "1c8848e0-e0e8-4495-d77b-2ec5899d7961"
      },
      "outputs": [
        {
          "output_type": "error",
          "ename": "NameError",
          "evalue": "ignored",
          "traceback": [
            "\u001b[0;31m---------------------------------------------------------------------------\u001b[0m",
            "\u001b[0;31mNameError\u001b[0m                                 Traceback (most recent call last)",
            "\u001b[0;32m<ipython-input-1-5633baaed610>\u001b[0m in \u001b[0;36m<cell line: 1>\u001b[0;34m()\u001b[0m\n\u001b[0;32m----> 1\u001b[0;31m \u001b[0mloss\u001b[0m\u001b[0;34m,\u001b[0m \u001b[0maccuracy\u001b[0m\u001b[0;34m,\u001b[0m \u001b[0mprecision\u001b[0m\u001b[0;34m,\u001b[0m \u001b[0mrecall\u001b[0m \u001b[0;34m=\u001b[0m \u001b[0mmodel\u001b[0m\u001b[0;34m.\u001b[0m\u001b[0mevaluate\u001b[0m\u001b[0;34m(\u001b[0m\u001b[0mX_test\u001b[0m\u001b[0;34m,\u001b[0m \u001b[0my_test\u001b[0m\u001b[0;34m)\u001b[0m\u001b[0;34m\u001b[0m\u001b[0;34m\u001b[0m\u001b[0m\n\u001b[0m\u001b[1;32m      2\u001b[0m \u001b[0mprint\u001b[0m\u001b[0;34m(\u001b[0m\u001b[0;34m\"Test loss:\"\u001b[0m\u001b[0;34m,\u001b[0m \u001b[0mloss\u001b[0m\u001b[0;34m)\u001b[0m\u001b[0;34m\u001b[0m\u001b[0;34m\u001b[0m\u001b[0m\n\u001b[1;32m      3\u001b[0m \u001b[0mprint\u001b[0m\u001b[0;34m(\u001b[0m\u001b[0;34m\"Test accuracy:\"\u001b[0m\u001b[0;34m,\u001b[0m \u001b[0maccuracy\u001b[0m\u001b[0;34m)\u001b[0m\u001b[0;34m\u001b[0m\u001b[0;34m\u001b[0m\u001b[0m\n\u001b[1;32m      4\u001b[0m \u001b[0mprint\u001b[0m\u001b[0;34m(\u001b[0m\u001b[0;34m\"Test precision:\"\u001b[0m\u001b[0;34m,\u001b[0m \u001b[0mprecision\u001b[0m\u001b[0;34m)\u001b[0m\u001b[0;34m\u001b[0m\u001b[0;34m\u001b[0m\u001b[0m\n\u001b[1;32m      5\u001b[0m \u001b[0mprint\u001b[0m\u001b[0;34m(\u001b[0m\u001b[0;34m\"Test recall:\"\u001b[0m\u001b[0;34m,\u001b[0m \u001b[0mrecall\u001b[0m\u001b[0;34m)\u001b[0m\u001b[0;34m\u001b[0m\u001b[0;34m\u001b[0m\u001b[0m\n",
            "\u001b[0;31mNameError\u001b[0m: name 'model' is not defined"
          ]
        }
      ],
      "source": [
        "loss, accuracy, precision, recall = model.evaluate(X_test, y_test)\n",
        "print(\"Test loss:\", loss)\n",
        "print(\"Test accuracy:\", accuracy)\n",
        "print(\"Test precision:\", precision)\n",
        "print(\"Test recall:\", recall)"
      ]
    },
    {
      "cell_type": "code",
      "execution_count": null,
      "metadata": {
        "id": "nfE3Dw4Ux4Gq"
      },
      "outputs": [],
      "source": [
        "import matplotlib.pyplot as plt\n",
        "\n",
        "\n",
        "# Plot training and validation loss history\n",
        "train_loss = history.history['loss']\n",
        "val_loss = history.history['val_loss']\n",
        "\n",
        "plt.plot(train_loss, label='Train loss')\n",
        "plt.plot(val_loss, label='Val loss')\n",
        "plt.legend()\n",
        "plt.title('Training and Validation Loss')\n",
        "plt.xlabel('Epoch')\n",
        "plt.ylabel('Loss')\n",
        "plt.show()"
      ]
    },
    {
      "cell_type": "code",
      "execution_count": null,
      "metadata": {
        "id": "t4MB9LZnxN0r"
      },
      "outputs": [],
      "source": [
        "#next model to update filters from 32 to 64"
      ]
    },
    {
      "cell_type": "code",
      "execution_count": null,
      "metadata": {
        "id": "mZcUzOYSxOsp",
        "colab": {
          "base_uri": "https://localhost:8080/"
        },
        "outputId": "22e5070b-0a0d-474e-dcd3-ded4fead5b09"
      },
      "outputs": [
        {
          "output_type": "stream",
          "name": "stderr",
          "text": [
            "/usr/local/lib/python3.9/dist-packages/keras/optimizers/legacy/adam.py:117: UserWarning: The `lr` argument is deprecated, use `learning_rate` instead.\n",
            "  super().__init__(name, **kwargs)\n"
          ]
        },
        {
          "output_type": "stream",
          "name": "stdout",
          "text": [
            "Epoch 1/10\n",
            " 31/191 [===>..........................] - ETA: 17:20 - loss: 2.1974 - accuracy: 0.5544 - precision_1: 0.5912 - recall_1: 0.7143"
          ]
        }
      ],
      "source": [
        "\n",
        "\n",
        "# Create a Sequential model\n",
        "model = Sequential()\n",
        "\n",
        "# Add a Conv2D layer with 64 filters and 3x3 kernel size\n",
        "model.add(Conv2D(filters=64,\n",
        "                 kernel_size=(3, 3),\n",
        "                 activation='relu',\n",
        "                 input_shape=(224, 224, 1)))\n",
        "\n",
        "# Add a MaxPooling2D layer with 2x2 pool size\n",
        "model.add(MaxPooling2D(pool_size=(2, 2)))\n",
        "\n",
        "# Add another Conv2D layer with 64 filters and 3x3 kernel size\n",
        "model.add(Conv2D(filters=64,\n",
        "                 kernel_size=(3, 3),\n",
        "                 activation='relu',\n",
        "                 kernel_regularizer=regularizers.l2(0.01)))\n",
        "\n",
        "# Add another MaxPooling2D layer with 2x2 pool size\n",
        "model.add(MaxPooling2D(pool_size=(2, 2)))\n",
        "\n",
        "# Add another Conv2D layer with 64 filters and 3x3 kernel size\n",
        "model.add(Conv2D(filters=64,\n",
        "                 kernel_size=(3, 3),\n",
        "                 activation='relu',\n",
        "                 kernel_regularizer=regularizers.l2(0.01)))\n",
        "\n",
        "# Flatten the output of the convolutional layers\n",
        "model.add(Flatten())\n",
        "\n",
        "# Add a Dense layer with 64 neurons and ReLU activation, with L2 regularization\n",
        "model.add(Dense(64, activation='relu', kernel_regularizer=regularizers.l2(0.01)))\n",
        "\n",
        "# Add the output layer\n",
        "model.add(Dense(1, activation='sigmoid'))\n",
        "\n",
        "# Define the optimizer with a learning rate of 0.001\n",
        "opt = optimizers.Adam(lr=0.001)\n",
        "\n",
        "# Compile the model with the defined optimizer\n",
        "model.compile(loss='binary_crossentropy',\n",
        "              optimizer=opt,\n",
        "              metrics=['accuracy', tf.keras.metrics.Precision(), tf.keras.metrics.Recall()])\n",
        "\n",
        "# Fit the model\n",
        "history = model.fit(X_train, y_train,\n",
        "                    epochs=10,\n",
        "                    batch_size=32,\n",
        "                    validation_data=(X_val, y_val))"
      ]
    },
    {
      "cell_type": "code",
      "execution_count": 2,
      "metadata": {
        "id": "jHZC3UeODbjx",
        "colab": {
          "base_uri": "https://localhost:8080/",
          "height": 236
        },
        "outputId": "7bc3271e-8353-4dbe-ee8c-f02a72448d2e"
      },
      "outputs": [
        {
          "output_type": "error",
          "ename": "NameError",
          "evalue": "ignored",
          "traceback": [
            "\u001b[0;31m---------------------------------------------------------------------------\u001b[0m",
            "\u001b[0;31mNameError\u001b[0m                                 Traceback (most recent call last)",
            "\u001b[0;32m<ipython-input-2-5633baaed610>\u001b[0m in \u001b[0;36m<cell line: 1>\u001b[0;34m()\u001b[0m\n\u001b[0;32m----> 1\u001b[0;31m \u001b[0mloss\u001b[0m\u001b[0;34m,\u001b[0m \u001b[0maccuracy\u001b[0m\u001b[0;34m,\u001b[0m \u001b[0mprecision\u001b[0m\u001b[0;34m,\u001b[0m \u001b[0mrecall\u001b[0m \u001b[0;34m=\u001b[0m \u001b[0mmodel\u001b[0m\u001b[0;34m.\u001b[0m\u001b[0mevaluate\u001b[0m\u001b[0;34m(\u001b[0m\u001b[0mX_test\u001b[0m\u001b[0;34m,\u001b[0m \u001b[0my_test\u001b[0m\u001b[0;34m)\u001b[0m\u001b[0;34m\u001b[0m\u001b[0;34m\u001b[0m\u001b[0m\n\u001b[0m\u001b[1;32m      2\u001b[0m \u001b[0mprint\u001b[0m\u001b[0;34m(\u001b[0m\u001b[0;34m\"Test loss:\"\u001b[0m\u001b[0;34m,\u001b[0m \u001b[0mloss\u001b[0m\u001b[0;34m)\u001b[0m\u001b[0;34m\u001b[0m\u001b[0;34m\u001b[0m\u001b[0m\n\u001b[1;32m      3\u001b[0m \u001b[0mprint\u001b[0m\u001b[0;34m(\u001b[0m\u001b[0;34m\"Test accuracy:\"\u001b[0m\u001b[0;34m,\u001b[0m \u001b[0maccuracy\u001b[0m\u001b[0;34m)\u001b[0m\u001b[0;34m\u001b[0m\u001b[0;34m\u001b[0m\u001b[0m\n\u001b[1;32m      4\u001b[0m \u001b[0mprint\u001b[0m\u001b[0;34m(\u001b[0m\u001b[0;34m\"Test precision:\"\u001b[0m\u001b[0;34m,\u001b[0m \u001b[0mprecision\u001b[0m\u001b[0;34m)\u001b[0m\u001b[0;34m\u001b[0m\u001b[0;34m\u001b[0m\u001b[0m\n\u001b[1;32m      5\u001b[0m \u001b[0mprint\u001b[0m\u001b[0;34m(\u001b[0m\u001b[0;34m\"Test recall:\"\u001b[0m\u001b[0;34m,\u001b[0m \u001b[0mrecall\u001b[0m\u001b[0;34m)\u001b[0m\u001b[0;34m\u001b[0m\u001b[0;34m\u001b[0m\u001b[0m\n",
            "\u001b[0;31mNameError\u001b[0m: name 'model' is not defined"
          ]
        }
      ],
      "source": [
        "loss, accuracy, precision, recall = model.evaluate(X_test, y_test)\n",
        "print(\"Test loss:\", loss)\n",
        "print(\"Test accuracy:\", accuracy)\n",
        "print(\"Test precision:\", precision)\n",
        "print(\"Test recall:\", recall)"
      ]
    },
    {
      "cell_type": "code",
      "execution_count": null,
      "metadata": {
        "id": "lclyEBggDe62"
      },
      "outputs": [],
      "source": [
        "\n",
        "\n",
        "\n",
        "# Plot training and validation loss history\n",
        "train_loss = history.history['loss']\n",
        "val_loss = history.history['val_loss']\n",
        "\n",
        "plt.plot(train_loss, label='Train loss')\n",
        "plt.plot(val_loss, label='Val loss')\n",
        "plt.legend()\n",
        "plt.title('Training and Validation Loss')\n",
        "plt.xlabel('Epoch')\n",
        "plt.ylabel('Loss')\n",
        "plt.show()"
      ]
    },
    {
      "cell_type": "markdown",
      "source": [
        "Model 1: Achieved an accuracy of 43.01% on the test set. This model achieved perfect training accuracy but very poor test accuracy. This suggests that the model has overfit to the training data and is unable to generalize to new data.\n",
        "\n",
        "Model 2 (final model): Achieved an accuracy of 89.89% on the test set, with a test loss of 0.3999. This model achieved high accuracy and low loss on both the training and test data, indicating that it has learned the underlying patterns in the data well and is able to generalize to new data. The test accuracy is almost 90%, which is very good.\n",
        "\n",
        "Model 3: Achieved an accuracy of 84.22% on the validation set, with a precision of 86.87%, a recall of 85.75%, and a validation loss of 0.4438.\n",
        "This model achieved high accuracy and precision, indicating that it is able to correctly identify positive cases of COVID-19. The recall score is also high, indicating that it is able to correctly identify most positive cases. The validation accuracy and validation precision are slightly lower, which suggests that the model may be overfitting to the training data.\n",
        "\n",
        "Model 4: Achieved an accuracy of 58.01% on the test set, with a precision of 58.01%, a recall of 100%, and a test loss of 0.7023. This model achieved low accuracy and precision, indicating that it is not able to correctly identify positive cases of COVID-19. However, the recall score is 1.0, which means that it is able to correctly identify all positive cases. This suggests that the model is biased towards predicting positive cases, which may be due to class imbalance in the dataset.\n",
        "\n",
        "Model 5: Achieved an accuracy of 81.86% on the test set, with a precision of 84.68%, a recall of 83.91%, and a test loss of 0.5084.\n",
        "This model achieved moderate accuracy, precision, and recall, indicating that it is able to correctly identify positive cases of COVID-19, but not with high confidence. The precision score is slightly lower than the recall score, which suggests that the model may be making more false positive predictions than false negative predictions."
      ],
      "metadata": {
        "id": "eO078BWD8-1v"
      }
    },
    {
      "cell_type": "code",
      "source": [],
      "metadata": {
        "id": "wjnulaB48_W-"
      },
      "execution_count": null,
      "outputs": []
    }
  ],
  "metadata": {
    "colab": {
      "provenance": []
    },
    "kernelspec": {
      "display_name": "Python 3",
      "name": "python3"
    },
    "language_info": {
      "name": "python"
    }
  },
  "nbformat": 4,
  "nbformat_minor": 0
}
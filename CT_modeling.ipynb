{
  "cells": [
    {
      "cell_type": "code",
      "execution_count": 3,
      "metadata": {
        "colab": {
          "base_uri": "https://localhost:8080/"
        },
        "id": "vbGCnamuwYOG",
        "outputId": "bb868f68-1ec6-45dc-b641-245e9c1d871a"
      },
      "outputs": [
        {
          "output_type": "stream",
          "name": "stdout",
          "text": [
            "Mounted at /content/gdrive\n"
          ]
        }
      ],
      "source": [
        "import os\n",
        "from google.colab import drive\n",
        "\n",
        "# Mount Google Drive\n",
        "drive.mount('/content/gdrive')"
      ]
    },
    {
      "cell_type": "code",
      "execution_count": 4,
      "metadata": {
        "colab": {
          "base_uri": "https://localhost:8080/"
        },
        "id": "qVTND4WS0J9r",
        "outputId": "3b98f721-3c33-4c8d-a295-344516a16454"
      },
      "outputs": [
        {
          "output_type": "stream",
          "name": "stdout",
          "text": [
            "Mounted at /content/drive\n"
          ]
        }
      ],
      "source": [
        "from google.colab import drive\n",
        "drive.mount('/content/drive')\n"
      ]
    },
    {
      "cell_type": "code",
      "source": [
        "from keras.models import Sequential\n",
        "from keras.layers import Conv2D, MaxPooling2D, Flatten, Dense\n",
        "from tensorflow.keras.callbacks import EarlyStopping\n",
        "from keras import regularizers\n",
        "from keras import optimizers\n",
        "import tensorflow as tf\n",
        "import matplotlib.pyplot as plt\n",
        "import os\n",
        "import numpy as np"
      ],
      "metadata": {
        "id": "_3naDA8WRjN7"
      },
      "execution_count": null,
      "outputs": []
    },
    {
      "cell_type": "code",
      "execution_count": 5,
      "metadata": {
        "id": "S_dFDiSv0cdF"
      },
      "outputs": [],
      "source": [
        "data_dir = '/content/drive/MyDrive/Image Classification Data'\n",
        "ct_labels = np.load(os.path.join(data_dir, 'ct_labels.npy'))\n",
        "ct_data = np.load(os.path.join(data_dir, 'ct_data.npy'))"
      ]
    },
    {
      "cell_type": "code",
      "execution_count": 6,
      "metadata": {
        "id": "-eEHFRXigR9T"
      },
      "outputs": [],
      "source": [
        "from sklearn.model_selection import train_test_split\n",
        "\n",
        "# Split the dataset into training and testing sets\n",
        "X_train, X_test, y_train, y_test = train_test_split(ct_data, ct_labels, test_size=0.2, random_state=42)\n",
        "\n",
        "# Split the training set into training and validation sets\n",
        "X_train, X_val, y_train, y_val = train_test_split(X_train, y_train, test_size=0.2, random_state=42)\n"
      ]
    },
    {
      "cell_type": "code",
      "execution_count": 7,
      "metadata": {
        "colab": {
          "base_uri": "https://localhost:8080/"
        },
        "id": "GB-oTtTeh1KF",
        "outputId": "aaa0d301-43a8-416d-9190-52908dcdaa51"
      },
      "outputs": [
        {
          "output_type": "stream",
          "name": "stdout",
          "text": [
            "Training set shape: (5155, 224, 224)\n",
            "Validation set shape: (1289, 224, 224)\n",
            "Testing set shape: (1611, 224, 224)\n"
          ]
        }
      ],
      "source": [
        "print(\"Training set shape:\", X_train.shape)\n",
        "print(\"Validation set shape:\", X_val.shape)\n",
        "print(\"Testing set shape:\", X_test.shape)\n"
      ]
    },
    {
      "cell_type": "code",
      "execution_count": 8,
      "metadata": {
        "colab": {
          "base_uri": "https://localhost:8080/"
        },
        "id": "q_PKj3FEpwab",
        "outputId": "0e1682dc-aa26-43e6-a73a-5fd118db2486"
      },
      "outputs": [
        {
          "output_type": "stream",
          "name": "stdout",
          "text": [
            "Training set shape: (5155,)\n",
            "Validation set shape: (1289,)\n",
            "Testing set shape: (1611,)\n"
          ]
        }
      ],
      "source": [
        "print(\"Training set shape:\", y_train.shape)\n",
        "print(\"Validation set shape:\", y_val.shape)\n",
        "print(\"Testing set shape:\", y_test.shape)"
      ]
    },
    {
      "cell_type": "code",
      "execution_count": 9,
      "metadata": {
        "id": "YxV0piw5pg1v"
      },
      "outputs": [],
      "source": [
        "\n",
        "\n",
        "from sklearn.preprocessing import LabelBinarizer\n",
        "\n",
        "# Convert class labels to binary format\n",
        "lb = LabelBinarizer()\n",
        "y_train = lb.fit_transform(y_train)\n",
        "y_val = lb.transform(y_val)\n",
        "y_test = lb.transform(y_test)\n"
      ]
    },
    {
      "cell_type": "code",
      "execution_count": 10,
      "metadata": {
        "colab": {
          "base_uri": "https://localhost:8080/"
        },
        "id": "vRLW0SMBq1mP",
        "outputId": "1fa98d4f-2265-407e-dc9c-b1eb40c8fedc"
      },
      "outputs": [
        {
          "output_type": "execute_result",
          "data": {
            "text/plain": [
              "array([[0],\n",
              "       [0],\n",
              "       [1],\n",
              "       ...,\n",
              "       [0],\n",
              "       [0],\n",
              "       [0]])"
            ]
          },
          "metadata": {},
          "execution_count": 10
        }
      ],
      "source": [
        "y_train"
      ]
    },
    {
      "cell_type": "code",
      "execution_count": 9,
      "metadata": {
        "colab": {
          "base_uri": "https://localhost:8080/"
        },
        "id": "pg16NaPLOzmi",
        "outputId": "cd364d6c-a25b-49e2-84e6-08018ccf631c"
      },
      "outputs": [
        {
          "output_type": "stream",
          "name": "stdout",
          "text": [
            "Epoch 1/50\n"
          ]
        },
        {
          "output_type": "stream",
          "name": "stderr",
          "text": [
            "/usr/local/lib/python3.9/dist-packages/tensorflow/python/util/dispatch.py:1176: SyntaxWarning: In loss categorical_crossentropy, expected y_pred.shape to be (batch_size, num_classes) with num_classes > 1. Received: y_pred.shape=(None, 1). Consider using 'binary_crossentropy' if you only have 2 classes.\n",
            "  return dispatch_target(*args, **kwargs)\n"
          ]
        },
        {
          "output_type": "stream",
          "name": "stdout",
          "text": [
            "81/81 [==============================] - 495s 6s/step - loss: 0.0000e+00 - accuracy: 0.6772 - val_loss: 0.0000e+00 - val_accuracy: 0.6796\n",
            "Epoch 2/50\n",
            "81/81 [==============================] - 491s 6s/step - loss: 0.0000e+00 - accuracy: 0.6774 - val_loss: 0.0000e+00 - val_accuracy: 0.6796\n",
            "Epoch 3/50\n",
            "81/81 [==============================] - 492s 6s/step - loss: 0.0000e+00 - accuracy: 0.6774 - val_loss: 0.0000e+00 - val_accuracy: 0.6796\n",
            "Epoch 4/50\n",
            "81/81 [==============================] - 491s 6s/step - loss: 0.0000e+00 - accuracy: 0.6774 - val_loss: 0.0000e+00 - val_accuracy: 0.6796\n",
            "Epoch 5/50\n",
            "81/81 [==============================] - 495s 6s/step - loss: 0.0000e+00 - accuracy: 0.6774 - val_loss: 0.0000e+00 - val_accuracy: 0.6796\n",
            "Epoch 6/50\n",
            "81/81 [==============================] - 481s 6s/step - loss: 0.0000e+00 - accuracy: 0.6774 - val_loss: 0.0000e+00 - val_accuracy: 0.6796\n"
          ]
        }
      ],
      "source": [
        "\n",
        "\n",
        "# Build a baseline fully connected model\n",
        "baseline_model = Sequential()\n",
        "baseline_model._name = \"Baseline\"\n",
        "\n",
        "\n",
        "# Add a Conv2D layer with 32 filters and 3x3 kernel size\n",
        "baseline_model.add(Conv2D(filters=32,\n",
        "                 kernel_size=(3, 3),\n",
        "                 activation='relu',\n",
        "                 input_shape=(224, 224, 1)))\n",
        "\n",
        "# Add a MaxPooling2D layer with 2x2 pool size\n",
        "baseline_model.add(MaxPooling2D(pool_size=(2, 2)))\n",
        "\n",
        "# Add another Conv2D layer with 64 filters and 3x3 kernel size\n",
        "baseline_model.add(Conv2D(filters=64,\n",
        "                 kernel_size=(3, 3),\n",
        "                 activation='relu'))\n",
        "\n",
        "# Flatten the output of the convolutional layers\n",
        "baseline_model.add(Flatten())\n",
        "\n",
        "\n",
        "baseline_model.add(Dense(16, activation='relu')) \n",
        "\n",
        "baseline_model.add(Dense(1, activation='sigmoid')) \n",
        "\n",
        "# Define early stopping callback\n",
        "trainCallback = EarlyStopping(monitor='accuracy', min_delta=1e-2, patience=5)\n",
        "\n",
        "# Compile the model\n",
        "model.compile(loss='binary_crossentropy', optimizer='adam', metrics=['accuracy', tf.keras.metrics.Precision(), tf.keras.metrics.Recall()])\n",
        "\n",
        "\n",
        "baseline = baseline_model.fit(X_train, y_train,\n",
        "                   epochs=50,\n",
        "                   batch_size=64,\n",
        "                   validation_data=(X_val, y_val),\n",
        "                   callbacks=[trainCallback])\n"
      ]
    },
    {
      "cell_type": "code",
      "execution_count": 10,
      "metadata": {
        "id": "6kIW9EcUfi6p",
        "colab": {
          "base_uri": "https://localhost:8080/"
        },
        "outputId": "b4f5a65f-67ed-48d1-b3fc-18844bc274be"
      },
      "outputs": [
        {
          "output_type": "stream",
          "name": "stdout",
          "text": [
            "51/51 [==============================] - 40s 778ms/step - loss: 0.0000e+00 - accuracy: 0.6574\n",
            "Test loss: 0.0\n",
            "Test accuracy: 0.6573556661605835\n"
          ]
        }
      ],
      "source": [
        "loss, accuracy, precision, recall, f1_score = model.evaluate(X_test, y_test)\n",
        "print(\"Test loss:\", loss)\n",
        "print(\"Test accuracy:\", accuracy)\n",
        "print(\"Test precision:\", precision)\n",
        "print(\"Test recall:\", recall)"
      ]
    },
    {
      "cell_type": "code",
      "execution_count": 11,
      "metadata": {
        "id": "U5qs_gScflGA",
        "colab": {
          "base_uri": "https://localhost:8080/",
          "height": 472
        },
        "outputId": "eeb75cdd-b730-4d67-abdd-f3b71cd51da5"
      },
      "outputs": [
        {
          "output_type": "display_data",
          "data": {
            "text/plain": [
              "<Figure size 640x480 with 1 Axes>"
            ],
            "image/png": "[encoded data removed]"
          },
          "metadata": {}
        }
      ],
      "source": [
        "\n",
        "\n",
        "# Plot training and validation loss history\n",
        "history = baseline.history\n",
        "train_loss = history['loss']\n",
        "val_loss = history['val_loss']\n",
        "\n",
        "plt.plot(train_loss, label='Train loss')\n",
        "plt.plot(val_loss, label='Val loss')\n",
        "plt.legend()\n",
        "plt.title('Baseline Training and Validation Loss')\n",
        "plt.xlabel('Epoch')\n",
        "plt.ylabel('Loss')\n",
        "plt.show()\n",
        "\n"
      ]
    },
    {
      "cell_type": "code",
      "execution_count": 14,
      "metadata": {
        "colab": {
          "base_uri": "https://localhost:8080/"
        },
        "id": "FwRZbxHto-pT",
        "outputId": "a6fab38e-3b1e-458c-bc44-8ce34f64688a"
      },
      "outputs": [
        {
          "output_type": "stream",
          "name": "stdout",
          "text": [
            "Epoch 1/10\n",
            "162/162 [==============================] - 632s 4s/step - loss: 0.3988 - accuracy: 0.8066 - val_loss: 0.2536 - val_accuracy: 0.8720\n",
            "Epoch 2/10\n",
            "162/162 [==============================] - 622s 4s/step - loss: 0.2273 - accuracy: 0.8923 - val_loss: 0.2195 - val_accuracy: 0.8999\n",
            "Epoch 3/10\n",
            "162/162 [==============================] - 624s 4s/step - loss: 0.1719 - accuracy: 0.9286 - val_loss: 0.2209 - val_accuracy: 0.8960\n",
            "Epoch 4/10\n",
            "162/162 [==============================] - 620s 4s/step - loss: 0.1229 - accuracy: 0.9498 - val_loss: 0.2274 - val_accuracy: 0.9123\n",
            "Epoch 5/10\n",
            "162/162 [==============================] - 624s 4s/step - loss: 0.0790 - accuracy: 0.9678 - val_loss: 0.2592 - val_accuracy: 0.9185\n",
            "Epoch 6/10\n",
            "162/162 [==============================] - 618s 4s/step - loss: 0.0591 - accuracy: 0.9787 - val_loss: 0.2239 - val_accuracy: 0.9247\n",
            "Epoch 7/10\n",
            "162/162 [==============================] - 620s 4s/step - loss: 0.0358 - accuracy: 0.9872 - val_loss: 0.3014 - val_accuracy: 0.9193\n",
            "Epoch 8/10\n",
            "162/162 [==============================] - 621s 4s/step - loss: 0.0128 - accuracy: 0.9971 - val_loss: 0.6167 - val_accuracy: 0.8976\n",
            "Epoch 9/10\n",
            "162/162 [==============================] - 616s 4s/step - loss: 0.0446 - accuracy: 0.9878 - val_loss: 0.2595 - val_accuracy: 0.9131\n",
            "Epoch 10/10\n",
            "162/162 [==============================] - 619s 4s/step - loss: 0.0237 - accuracy: 0.9942 - val_loss: 0.3329 - val_accuracy: 0.9147\n"
          ]
        }
      ],
      "source": [
        "\n",
        "\n",
        "# Create a Sequential model\n",
        "model = Sequential()\n",
        "\n",
        "# Add a Conv2D layer with 32 filters and 3x3 kernel size\n",
        "model.add(Conv2D(filters=32,\n",
        "                 kernel_size=(3, 3),\n",
        "                 activation='relu',\n",
        "                 input_shape=(224, 224, 1)))\n",
        "\n",
        "# Add a MaxPooling2D layer with 2x2 pool size\n",
        "model.add(MaxPooling2D(pool_size=(2, 2)))\n",
        "\n",
        "# Add another Conv2D layer with 64 filters and 3x3 kernel size\n",
        "model.add(Conv2D(filters=64,\n",
        "                 kernel_size=(3, 3),\n",
        "                 activation='relu'))\n",
        "\n",
        "\n",
        "# Add another MaxPooling2D layer with 2x2 pool size\n",
        "model.add(MaxPooling2D(pool_size=(2, 2)))\n",
        "\n",
        "# Add another Conv2D layer with 64 filters and 3x3 kernel size\n",
        "model.add(Conv2D(filters=64,\n",
        "                 kernel_size=(3, 3),\n",
        "                 activation='relu'))\n",
        "\n",
        "# Flatten the output of the convolutional layers\n",
        "model.add(Flatten())\n",
        "\n",
        "# Add a Dense layer with 64 neurons and ReLU activation\n",
        "model.add(Dense(64, activation='relu'))\n",
        "\n",
        "model.add(Dense(1, activation='sigmoid'))\n",
        "\n",
        "\n",
        "# Compile the model\n",
        "model.compile(loss='binary_crossentropy', optimizer='adam', metrics=['accuracy', tf.keras.metrics.Precision(), tf.keras.metrics.Recall()])\n",
        "\n",
        "\n",
        "history = model.fit(X_train, y_train,\n",
        "                    epochs=10,\n",
        "                    batch_size=32,\n",
        "                    validation_data=(X_val, y_val))"
      ]
    },
    {
      "cell_type": "code",
      "execution_count": 15,
      "metadata": {
        "id": "5m2q4PDK_Tgo",
        "colab": {
          "base_uri": "https://localhost:8080/"
        },
        "outputId": "086e3101-b2df-4b27-b6e6-20cdf3e4415b"
      },
      "outputs": [
        {
          "output_type": "stream",
          "name": "stdout",
          "text": [
            "51/51 [==============================] - 48s 937ms/step - loss: 0.3535 - accuracy: 0.9174\n",
            "Test loss: 0.3534733057022095\n",
            "Test accuracy: 0.9174425601959229\n"
          ]
        }
      ],
      "source": [
        "loss, accuracy, precision, recall, f1_score = model.evaluate(X_test, y_test)\n",
        "print(\"Test loss:\", loss)\n",
        "print(\"Test accuracy:\", accuracy)\n",
        "print(\"Test precision:\", precision)\n",
        "print(\"Test recall:\", recall)"
      ]
    },
    {
      "cell_type": "code",
      "execution_count": 16,
      "metadata": {
        "id": "v3lV3syYOeQ0",
        "colab": {
          "base_uri": "https://localhost:8080/",
          "height": 472
        },
        "outputId": "f53cc3c1-66f6-42f5-8924-ae7035831681"
      },
      "outputs": [
        {
          "output_type": "display_data",
          "data": {
            "text/plain": [
              "<Figure size 640x480 with 1 Axes>"
            ],
            "image/png": "[encoded data removed]"
          },
          "metadata": {}
        }
      ],
      "source": [
        "\n",
        "\n",
        "\n",
        "# Plot training and validation loss history\n",
        "train_loss = history.history['loss']\n",
        "val_loss = history.history['val_loss']\n",
        "\n",
        "plt.plot(train_loss, label='Train loss')\n",
        "plt.plot(val_loss, label='Val loss')\n",
        "plt.legend()\n",
        "plt.title('Training and Validation Loss')\n",
        "plt.xlabel('Epoch')\n",
        "plt.ylabel('Loss')\n",
        "plt.show()\n"
      ]
    },
    {
      "cell_type": "code",
      "source": [
        "# overfitting -- so adding L2 regularization"
      ],
      "metadata": {
        "id": "5hOtd8wnvxeb"
      },
      "execution_count": 20,
      "outputs": []
    },
    {
      "cell_type": "code",
      "source": [
        "\n",
        "\n",
        "# Create a Sequential model\n",
        "model = Sequential()\n",
        "\n",
        "# Add a Conv2D layer with 32 filters and 3x3 kernel size\n",
        "model.add(Conv2D(filters=32,\n",
        "                 kernel_size=(3, 3),\n",
        "                 activation='relu',\n",
        "                 input_shape=(224, 224, 1)))\n",
        "\n",
        "# Add a MaxPooling2D layer with 2x2 pool size\n",
        "model.add(MaxPooling2D(pool_size=(2, 2)))\n",
        "\n",
        "# Add another Conv2D layer with 64 filters and 3x3 kernel size\n",
        "model.add(Conv2D(filters=64,\n",
        "                 kernel_size=(3, 3),\n",
        "                 activation='relu',\n",
        "                 kernel_regularizer=regularizers.l2(0.01)))\n",
        "\n",
        "# Add another MaxPooling2D layer with 2x2 pool size\n",
        "model.add(MaxPooling2D(pool_size=(2, 2)))\n",
        "\n",
        "# Add another Conv2D layer with 64 filters and 3x3 kernel size\n",
        "model.add(Conv2D(filters=64,\n",
        "                 kernel_size=(3, 3),\n",
        "                 activation='relu',\n",
        "                 kernel_regularizer=regularizers.l2(0.01)))\n",
        "\n",
        "# Flatten the output of the convolutional layers\n",
        "model.add(Flatten())\n",
        "\n",
        "# Add a Dense layer with 64 neurons and ReLU activation, with L2 regularization\n",
        "model.add(Dense(64, activation='relu', kernel_regularizer=regularizers.l2(0.01)))\n",
        "\n",
        "# Add the output layer\n",
        "model.add(Dense(1, activation='sigmoid'))\n",
        "\n",
        "# Compile the model\n",
        "model.compile(loss='binary_crossentropy',\n",
        "              optimizer='adam',\n",
        "              metrics=['accuracy', tf.keras.metrics.Precision(), tf.keras.metrics.Recall()])\n",
        "\n",
        "# Fit the model\n",
        "history = model.fit(X_train, y_train,\n",
        "                    epochs=10,\n",
        "                    batch_size=32,\n",
        "                    validation_data=(X_val, y_val))\n"
      ],
      "metadata": {
        "id": "E51zTcfywruH",
        "colab": {
          "base_uri": "https://localhost:8080/"
        },
        "outputId": "ceec3918-52fb-49b3-967d-792251bc80d6"
      },
      "execution_count": 22,
      "outputs": [
        {
          "output_type": "stream",
          "name": "stdout",
          "text": [
            "Epoch 1/10\n",
            "162/162 [==============================] - 628s 4s/step - loss: 1.0818 - accuracy: 0.7670 - precision: 0.6600 - recall: 0.5731 - val_loss: 0.6817 - val_accuracy: 0.7905 - val_precision: 0.6082 - val_recall: 0.9734\n",
            "Epoch 2/10\n",
            "162/162 [==============================] - 616s 4s/step - loss: 0.5676 - accuracy: 0.8355 - precision: 0.7526 - recall: 0.7300 - val_loss: 0.5613 - val_accuracy: 0.7905 - val_precision: 0.9133 - val_recall: 0.3826\n",
            "Epoch 3/10\n",
            "162/162 [==============================] - 619s 4s/step - loss: 0.4861 - accuracy: 0.8499 - precision: 0.7702 - recall: 0.7619 - val_loss: 0.4548 - val_accuracy: 0.8542 - val_precision: 0.8866 - val_recall: 0.6247\n",
            "Epoch 4/10\n",
            "162/162 [==============================] - 605s 4s/step - loss: 0.4292 - accuracy: 0.8652 - precision: 0.7912 - recall: 0.7907 - val_loss: 0.4219 - val_accuracy: 0.8751 - val_precision: 0.7414 - val_recall: 0.9370\n",
            "Epoch 5/10\n",
            "162/162 [==============================] - 606s 4s/step - loss: 0.4043 - accuracy: 0.8603 - precision: 0.7805 - recall: 0.7889 - val_loss: 0.3977 - val_accuracy: 0.8666 - val_precision: 0.7203 - val_recall: 0.9540\n",
            "Epoch 6/10\n",
            "162/162 [==============================] - 597s 4s/step - loss: 0.4008 - accuracy: 0.8675 - precision: 0.7945 - recall: 0.7949 - val_loss: 0.4081 - val_accuracy: 0.8557 - val_precision: 0.7574 - val_recall: 0.8087\n",
            "Epoch 7/10\n",
            "162/162 [==============================] - 604s 4s/step - loss: 0.3701 - accuracy: 0.8700 - precision: 0.8011 - recall: 0.7943 - val_loss: 0.3566 - val_accuracy: 0.8813 - val_precision: 0.8218 - val_recall: 0.8039\n",
            "Epoch 8/10\n",
            "162/162 [==============================] - 597s 4s/step - loss: 0.3710 - accuracy: 0.8718 - precision: 0.7996 - recall: 0.8040 - val_loss: 0.3786 - val_accuracy: 0.8743 - val_precision: 0.8277 - val_recall: 0.7676\n",
            "Epoch 9/10\n",
            "162/162 [==============================] - 603s 4s/step - loss: 0.3512 - accuracy: 0.8760 - precision: 0.8051 - recall: 0.8124 - val_loss: 0.3758 - val_accuracy: 0.8441 - val_precision: 0.9206 - val_recall: 0.5617\n",
            "Epoch 10/10\n",
            "162/162 [==============================] - 604s 4s/step - loss: 0.3533 - accuracy: 0.8747 - precision: 0.8039 - recall: 0.8088 - val_loss: 0.3760 - val_accuracy: 0.8580 - val_precision: 0.7018 - val_recall: 0.9685\n"
          ]
        }
      ]
    },
    {
      "cell_type": "code",
      "source": [
        "loss, accuracy, precision, recall = model.evaluate(X_test, y_test)\n",
        "print(\"Test loss:\", loss)\n",
        "print(\"Test accuracy:\", accuracy)\n",
        "print(\"Test precision:\", precision)\n",
        "print(\"Test recall:\", recall)"
      ],
      "metadata": {
        "id": "768uRSIMQrYl",
        "colab": {
          "base_uri": "https://localhost:8080/"
        },
        "outputId": "e1a0430d-b96d-4d9b-cca3-7c3028c5aee2"
      },
      "execution_count": 24,
      "outputs": [
        {
          "output_type": "stream",
          "name": "stdout",
          "text": [
            "51/51 [==============================] - 76s 1s/step - loss: 0.3712 - accuracy: 0.8572 - precision: 0.7170 - recall: 0.9638\n",
            "Test loss: 0.37118440866470337\n",
            "Test accuracy: 0.8572315573692322\n",
            "Test precision: 0.7169811129570007\n",
            "Test recall: 0.9637681245803833\n"
          ]
        }
      ]
    },
    {
      "cell_type": "code",
      "source": [
        "\n",
        "\n",
        "\n",
        "# Plot training and validation loss history\n",
        "train_loss = history.history['loss']\n",
        "val_loss = history.history['val_loss']\n",
        "\n",
        "plt.plot(train_loss, label='Train loss')\n",
        "plt.plot(val_loss, label='Val loss')\n",
        "plt.legend()\n",
        "plt.title('Training and Validation Loss')\n",
        "plt.xlabel('Epoch')\n",
        "plt.ylabel('Loss')\n",
        "plt.show()\n"
      ],
      "metadata": {
        "id": "TJ4Ah5LdSJks",
        "colab": {
          "base_uri": "https://localhost:8080/",
          "height": 472
        },
        "outputId": "a5207efc-a35d-49ec-9562-9e19672b1d00"
      },
      "execution_count": 25,
      "outputs": [
        {
          "output_type": "display_data",
          "data": {
            "text/plain": [
              "<Figure size 640x480 with 1 Axes>"
            ],
            "image/png": "[encoded data removed]"
          },
          "metadata": {}
        }
      ]
    },
    {
      "cell_type": "code",
      "source": [
        "\n",
        "\n",
        "# Create a Sequential model\n",
        "model = Sequential()\n",
        "\n",
        "# Add a Conv2D layer with 32 filters and 3x3 kernel size\n",
        "model.add(Conv2D(filters=32,\n",
        "                 kernel_size=(3, 3),\n",
        "                 activation='relu',\n",
        "                 input_shape=(224, 224, 1)))\n",
        "\n",
        "# Add a MaxPooling2D layer with 2x2 pool size\n",
        "model.add(MaxPooling2D(pool_size=(2, 2)))\n",
        "\n",
        "# Add another Conv2D layer with 64 filters and 3x3 kernel size\n",
        "model.add(Conv2D(filters=64,\n",
        "                 kernel_size=(3, 3),\n",
        "                 activation='relu',\n",
        "                 kernel_regularizer=regularizers.l2(0.01)))\n",
        "\n",
        "# Add another MaxPooling2D layer with 2x2 pool size\n",
        "model.add(MaxPooling2D(pool_size=(2, 2)))\n",
        "\n",
        "# Add another Conv2D layer with 64 filters and 3x3 kernel size\n",
        "model.add(Conv2D(filters=64,\n",
        "                 kernel_size=(3, 3),\n",
        "                 activation='relu',\n",
        "                 kernel_regularizer=regularizers.l2(0.01)))\n",
        "\n",
        "# Flatten the output of the convolutional layers\n",
        "model.add(Flatten())\n",
        "\n",
        "# Add a Dense layer with 64 neurons and ReLU activation, with L2 regularization\n",
        "model.add(Dense(64, activation='relu', kernel_regularizer=regularizers.l2(0.01)))\n",
        "\n",
        "# Add the output layer\n",
        "model.add(Dense(1, activation='sigmoid'))\n",
        "\n",
        "# Define the optimizer with a learning rate of 0.01\n",
        "opt = optimizers.Adam(lr=0.01)\n",
        "\n",
        "# Compile the model with the defined optimizer\n",
        "model.compile(loss='binary_crossentropy',\n",
        "              optimizer=opt,\n",
        "              metrics=['accuracy', tf.keras.metrics.Precision(), tf.keras.metrics.Recall()])\n",
        "\n",
        "# Fit the model\n",
        "history = model.fit(X_train, y_train,\n",
        "                    epochs=10,\n",
        "                    batch_size=32,\n",
        "                    validation_data=(X_val, y_val))\n"
      ],
      "metadata": {
        "id": "AX4QOTInXQz7",
        "colab": {
          "base_uri": "https://localhost:8080/"
        },
        "outputId": "bd2ea25b-7e3c-497f-e5bb-533a262e2e27"
      },
      "execution_count": null,
      "outputs": [
        {
          "metadata": {
            "tags": null
          },
          "name": "stderr",
          "output_type": "stream",
          "text": [
            "/usr/local/lib/python3.9/dist-packages/keras/optimizers/legacy/adam.py:117: UserWarning: The `lr` argument is deprecated, use `learning_rate` instead.\n",
            "  super().__init__(name, **kwargs)\n"
          ]
        },
        {
          "output_type": "stream",
          "name": "stdout",
          "text": [
            "Epoch 1/10\n",
            "162/162 [==============================] - 383s 2s/step - loss: 4.0613 - accuracy: 0.6710 - precision_1: 0.2676 - recall_1: 0.0114 - val_loss: 0.9252 - val_accuracy: 0.6796 - val_precision_1: 0.0000e+00 - val_recall_1: 0.0000e+00\n",
            "Epoch 2/10\n",
            "162/162 [==============================] - 389s 2s/step - loss: 0.8581 - accuracy: 0.6774 - precision_1: 0.0000e+00 - recall_1: 0.0000e+00 - val_loss: 0.8015 - val_accuracy: 0.6796 - val_precision_1: 0.0000e+00 - val_recall_1: 0.0000e+00\n",
            "Epoch 3/10\n",
            "162/162 [==============================] - 388s 2s/step - loss: 0.7688 - accuracy: 0.6774 - precision_1: 0.0000e+00 - recall_1: 0.0000e+00 - val_loss: 0.7379 - val_accuracy: 0.6796 - val_precision_1: 0.0000e+00 - val_recall_1: 0.0000e+00\n",
            "Epoch 4/10\n",
            "162/162 [==============================] - 385s 2s/step - loss: 0.7196 - accuracy: 0.6774 - precision_1: 0.0000e+00 - recall_1: 0.0000e+00 - val_loss: 0.6998 - val_accuracy: 0.6796 - val_precision_1: 0.0000e+00 - val_recall_1: 0.0000e+00\n",
            "Epoch 5/10\n",
            "162/162 [==============================] - 383s 2s/step - loss: 0.6879 - accuracy: 0.6774 - precision_1: 0.0000e+00 - recall_1: 0.0000e+00 - val_loss: 0.6743 - val_accuracy: 0.6796 - val_precision_1: 0.0000e+00 - val_recall_1: 0.0000e+00\n",
            "Epoch 6/10\n",
            "162/162 [==============================] - 366s 2s/step - loss: 0.6677 - accuracy: 0.6774 - precision_1: 0.0000e+00 - recall_1: 0.0000e+00 - val_loss: 0.6576 - val_accuracy: 0.6796 - val_precision_1: 0.0000e+00 - val_recall_1: 0.0000e+00\n",
            "Epoch 7/10\n",
            "162/162 [==============================] - 362s 2s/step - loss: 0.6540 - accuracy: 0.6774 - precision_1: 0.0000e+00 - recall_1: 0.0000e+00 - val_loss: 0.6483 - val_accuracy: 0.6796 - val_precision_1: 0.0000e+00 - val_recall_1: 0.0000e+00\n",
            "Epoch 8/10\n",
            "162/162 [==============================] - 378s 2s/step - loss: 0.6461 - accuracy: 0.6774 - precision_1: 0.0000e+00 - recall_1: 0.0000e+00 - val_loss: 0.6416 - val_accuracy: 0.6796 - val_precision_1: 0.0000e+00 - val_recall_1: 0.0000e+00\n",
            "Epoch 9/10\n",
            "100/162 [=================>............] - ETA: 2:10 - loss: 0.6468 - accuracy: 0.6791 - precision_1: 0.0000e+00 - recall_1: 0.0000e+00"
          ]
        }
      ]
    },
    {
      "cell_type": "code",
      "source": [
        "loss, accuracy, precision, recall = model.evaluate(X_test, y_test)\n",
        "print(\"Test loss:\", loss)\n",
        "print(\"Test accuracy:\", accuracy)\n",
        "print(\"Test precision:\", precision)\n",
        "print(\"Test recall:\", recall)"
      ],
      "metadata": {
        "id": "zemUE4P5xNZk",
        "colab": {
          "base_uri": "https://localhost:8080/"
        },
        "outputId": "2f63219f-d789-4a90-a380-20fc8ae58563"
      },
      "execution_count": 18,
      "outputs": [
        {
          "output_type": "stream",
          "name": "stdout",
          "text": [
            "51/51 [==============================] - 43s 847ms/step - loss: 0.2964 - accuracy: 0.9025 - precision_2: 0.8895 - recall_2: 0.8170\n",
            "Test loss: 0.29636630415916443\n",
            "Test accuracy: 0.9025449752807617\n",
            "Test precision: 0.8895463347434998\n",
            "Test recall: 0.8170289993286133\n"
          ]
        }
      ]
    },
    {
      "cell_type": "code",
      "source": [
        "import matplotlib.pyplot as plt\n",
        "\n",
        "\n",
        "# Plot training and validation loss history\n",
        "train_loss = history.history['loss']\n",
        "val_loss = history.history['val_loss']\n",
        "\n",
        "plt.plot(train_loss, label='Train loss')\n",
        "plt.plot(val_loss, label='Val loss')\n",
        "plt.legend()\n",
        "plt.title('Training and Validation Loss')\n",
        "plt.xlabel('Epoch')\n",
        "plt.ylabel('Loss')\n",
        "plt.show()"
      ],
      "metadata": {
        "id": "nfE3Dw4Ux4Gq"
      },
      "execution_count": null,
      "outputs": []
    },
    {
      "cell_type": "code",
      "source": [
        "#next model to update filters from 32 to 64"
      ],
      "metadata": {
        "id": "t4MB9LZnxN0r"
      },
      "execution_count": null,
      "outputs": []
    },
    {
      "cell_type": "code",
      "source": [
        "\n",
        "\n",
        "# Create a Sequential model\n",
        "model = Sequential()\n",
        "\n",
        "# Add a Conv2D layer with 64 filters and 3x3 kernel size\n",
        "model.add(Conv2D(filters=64,\n",
        "                 kernel_size=(3, 3),\n",
        "                 activation='relu',\n",
        "                 input_shape=(224, 224, 1)))\n",
        "\n",
        "# Add a MaxPooling2D layer with 2x2 pool size\n",
        "model.add(MaxPooling2D(pool_size=(2, 2)))\n",
        "\n",
        "# Add another Conv2D layer with 64 filters and 3x3 kernel size\n",
        "model.add(Conv2D(filters=64,\n",
        "                 kernel_size=(3, 3),\n",
        "                 activation='relu',\n",
        "                 kernel_regularizer=regularizers.l2(0.01)))\n",
        "\n",
        "# Add another MaxPooling2D layer with 2x2 pool size\n",
        "model.add(MaxPooling2D(pool_size=(2, 2)))\n",
        "\n",
        "# Add another Conv2D layer with 64 filters and 3x3 kernel size\n",
        "model.add(Conv2D(filters=64,\n",
        "                 kernel_size=(3, 3),\n",
        "                 activation='relu',\n",
        "                 kernel_regularizer=regularizers.l2(0.01)))\n",
        "\n",
        "# Flatten the output of the convolutional layers\n",
        "model.add(Flatten())\n",
        "\n",
        "# Add a Dense layer with 64 neurons and ReLU activation, with L2 regularization\n",
        "model.add(Dense(64, activation='relu', kernel_regularizer=regularizers.l2(0.01)))\n",
        "\n",
        "# Add the output layer\n",
        "model.add(Dense(1, activation='sigmoid'))\n",
        "\n",
        "# Define the optimizer with a learning rate of 0.001\n",
        "opt = optimizers.Adam(lr=0.001)\n",
        "\n",
        "# Compile the model with the defined optimizer\n",
        "model.compile(loss='binary_crossentropy',\n",
        "              optimizer=opt,\n",
        "              metrics=['accuracy', tf.keras.metrics.Precision(), tf.keras.metrics.Recall()])\n",
        "\n",
        "# Fit the model\n",
        "history = model.fit(X_train, y_train,\n",
        "                    epochs=10,\n",
        "                    batch_size=32,\n",
        "                    validation_data=(X_val, y_val))"
      ],
      "metadata": {
        "id": "mZcUzOYSxOsp",
        "colab": {
          "base_uri": "https://localhost:8080/"
        },
        "outputId": "8502b380-fde5-4c02-ac62-f285d4aebffe"
      },
      "execution_count": 15,
      "outputs": [
        {
          "output_type": "stream",
          "name": "stdout",
          "text": [
            "Epoch 1/10\n",
            "162/162 [==============================] - 596s 4s/step - loss: 1.0543 - accuracy: 0.7719 - precision_2: 0.6586 - recall_2: 0.6079 - val_loss: 0.6390 - val_accuracy: 0.8588 - val_precision_2: 0.7838 - val_recall_2: 0.7724\n",
            "Epoch 2/10\n",
            "162/162 [==============================] - 585s 4s/step - loss: 0.5620 - accuracy: 0.8551 - precision_2: 0.7824 - recall_2: 0.7631 - val_loss: 0.5247 - val_accuracy: 0.8402 - val_precision_2: 0.8935 - val_recall_2: 0.5690\n",
            "Epoch 3/10\n",
            "162/162 [==============================] - 586s 4s/step - loss: 0.4728 - accuracy: 0.8611 - precision_2: 0.7900 - recall_2: 0.7757 - val_loss: 0.4880 - val_accuracy: 0.8231 - val_precision_2: 0.6504 - val_recall_2: 0.9685\n",
            "Epoch 4/10\n",
            "162/162 [==============================] - 588s 4s/step - loss: 0.4295 - accuracy: 0.8671 - precision_2: 0.7946 - recall_2: 0.7931 - val_loss: 0.3814 - val_accuracy: 0.8852 - val_precision_2: 0.9260 - val_recall_2: 0.6973\n",
            "Epoch 5/10\n",
            "162/162 [==============================] - 588s 4s/step - loss: 0.3794 - accuracy: 0.8824 - precision_2: 0.8140 - recall_2: 0.8238 - val_loss: 0.3570 - val_accuracy: 0.8922 - val_precision_2: 0.8568 - val_recall_2: 0.7966\n",
            "Epoch 6/10\n",
            "162/162 [==============================] - 589s 4s/step - loss: 0.3590 - accuracy: 0.8836 - precision_2: 0.8200 - recall_2: 0.8190 - val_loss: 0.3501 - val_accuracy: 0.8922 - val_precision_2: 0.8460 - val_recall_2: 0.8111\n",
            "Epoch 7/10\n",
            "162/162 [==============================] - 589s 4s/step - loss: 0.3511 - accuracy: 0.8766 - precision_2: 0.8095 - recall_2: 0.8076 - val_loss: 0.3416 - val_accuracy: 0.8728 - val_precision_2: 0.7408 - val_recall_2: 0.9274\n",
            "Epoch 8/10\n",
            "162/162 [==============================] - 587s 4s/step - loss: 0.3595 - accuracy: 0.8817 - precision_2: 0.8260 - recall_2: 0.8022 - val_loss: 0.3381 - val_accuracy: 0.9022 - val_precision_2: 0.7983 - val_recall_2: 0.9298\n",
            "Epoch 9/10\n",
            "162/162 [==============================] - 586s 4s/step - loss: 0.3385 - accuracy: 0.8848 - precision_2: 0.8245 - recall_2: 0.8166 - val_loss: 0.3135 - val_accuracy: 0.8945 - val_precision_2: 0.7856 - val_recall_2: 0.9225\n",
            "Epoch 10/10\n",
            "162/162 [==============================] - 588s 4s/step - loss: 0.3188 - accuracy: 0.8993 - precision_2: 0.8484 - recall_2: 0.8376 - val_loss: 0.2951 - val_accuracy: 0.9046 - val_precision_2: 0.8680 - val_recall_2: 0.8281\n"
          ]
        }
      ]
    },
    {
      "cell_type": "code",
      "source": [
        "loss, accuracy, precision, recall = model.evaluate(X_test, y_test)\n",
        "print(\"Test loss:\", loss)\n",
        "print(\"Test accuracy:\", accuracy)\n",
        "print(\"Test precision:\", precision)\n",
        "print(\"Test recall:\", recall)"
      ],
      "metadata": {
        "id": "jHZC3UeODbjx",
        "colab": {
          "base_uri": "https://localhost:8080/"
        },
        "outputId": "229b9f2d-a064-4b51-eb91-e60d6b826683"
      },
      "execution_count": 16,
      "outputs": [
        {
          "output_type": "stream",
          "name": "stdout",
          "text": [
            "51/51 [==============================] - 44s 864ms/step - loss: 0.2964 - accuracy: 0.9025 - precision_2: 0.8895 - recall_2: 0.8170\n",
            "Test loss: 0.29636630415916443\n",
            "Test accuracy: 0.9025449752807617\n",
            "Test precision: 0.8895463347434998\n",
            "Test recall: 0.8170289993286133\n"
          ]
        }
      ]
    },
    {
      "cell_type": "code",
      "source": [
        "# Plot training and validation loss history\n",
        "train_loss = history.history['loss']\n",
        "val_loss = history.history['val_loss']\n",
        "\n",
        "plt.plot(train_loss, label='Train loss')\n",
        "plt.plot(val_loss, label='Val loss')\n",
        "plt.legend()\n",
        "plt.title('Training and Validation Loss')\n",
        "plt.xlabel('Epoch')\n",
        "plt.ylabel('Loss')\n",
        "plt.show()"
      ],
      "metadata": {
        "id": "lclyEBggDe62",
        "colab": {
          "base_uri": "https://localhost:8080/",
          "height": 472
        },
        "outputId": "6c0ec058-3424-41f5-b1d6-48342e70cd3a"
      },
      "execution_count": 17,
      "outputs": [
        {
          "output_type": "display_data",
          "data": {
            "text/plain": [
              "<Figure size 640x480 with 1 Axes>"
            ],
            "image/png": "[encoded data removed]"
          },
          "metadata": {}
        }
      ]
    },
    {
      "cell_type": "markdown",
      "source": [
        "Model 1 (baseline):\n",
        "Test accuracy: 0.657\n",
        "No additional metrics reported\n",
        "\n",
        "Model 2:\n",
        "Test accuracy: 0.917\n",
        "No additional metrics reported\n",
        "\n",
        "Model 3:\n",
        "Test accuracy: 0.857\n",
        "Test precision: 0.717\n",
        "Test recall: 0.964\n",
        "\n",
        "Model 4:\n",
        "Test accuracy: 0.903\n",
        "Test precision: 0.890\n",
        "Test recall: 0.817\n",
        "\n",
        "Model 5:\n",
        "Test accuracy: 0.903\n",
        "Test precision: 0.890\n",
        "Test recall: 0.817\n",
        "\n",
        "Additional test accuracy reported after training on more epochs: 0.917\n",
        "Based on our criteria of selecting the model with the highest recall, Model 3 has the highest recall score of 0.964. However, if we also consider test accuracy and precision, then Model 4 would also be a good choice as it has a slightly lower recall score of 0.817, but higher accuracy and precision scores, so we are going with model 4. Note that Model 5 has the same metrics as Model 4 except for the additional test accuracy reported after training on more epochs, so we may also consider this model.\n",
        "\n",
        "\n",
        "\n"
      ],
      "metadata": {
        "id": "PmpeqVhnU7E7"
      }
    },
    {
      "cell_type": "code",
      "source": [],
      "metadata": {
        "id": "cLv6zYgwU78r"
      },
      "execution_count": null,
      "outputs": []
    }
  ],
  "metadata": {
    "colab": {
      "provenance": []
    },
    "kernelspec": {
      "display_name": "Python 3",
      "name": "python3"
    },
    "language_info": {
      "name": "python"
    }
  },
  "nbformat": 4,
  "nbformat_minor": 0
}
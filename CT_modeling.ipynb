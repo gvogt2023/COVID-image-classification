{
  "cells": [
    {
      "cell_type": "code",
      "execution_count": 1,
      "metadata": {
        "colab": {
          "base_uri": "https://localhost:8080/"
        },
        "id": "vbGCnamuwYOG",
        "outputId": "2930969c-7dca-4d6e-ce2a-27fe70c0f158"
      },
      "outputs": [
        {
          "output_type": "stream",
          "name": "stdout",
          "text": [
            "Mounted at /content/gdrive\n"
          ]
        }
      ],
      "source": [
        "import os\n",
        "from google.colab import drive\n",
        "\n",
        "# Mount Google Drive\n",
        "drive.mount('/content/gdrive')"
      ]
    },
    {
      "cell_type": "code",
      "execution_count": 2,
      "metadata": {
        "colab": {
          "base_uri": "https://localhost:8080/"
        },
        "id": "qVTND4WS0J9r",
        "outputId": "a617a425-79b1-4a12-f627-e393c751ab9c"
      },
      "outputs": [
        {
          "output_type": "stream",
          "name": "stdout",
          "text": [
            "Mounted at /content/drive\n"
          ]
        }
      ],
      "source": [
        "from google.colab import drive\n",
        "drive.mount('/content/drive')\n"
      ]
    },
    {
      "cell_type": "code",
      "execution_count": 3,
      "metadata": {
        "id": "S_dFDiSv0cdF"
      },
      "outputs": [],
      "source": [
        "import os\n",
        "import numpy as np\n",
        "\n",
        "data_dir = '/content/drive/MyDrive/Image Classification Data'\n",
        "ct_labels = np.load(os.path.join(data_dir, 'ct_labels.npy'))\n",
        "ct_data = np.load(os.path.join(data_dir, 'ct_data.npy'))"
      ]
    },
    {
      "cell_type": "code",
      "execution_count": 4,
      "metadata": {
        "id": "-eEHFRXigR9T"
      },
      "outputs": [],
      "source": [
        "from sklearn.model_selection import train_test_split\n",
        "\n",
        "# Split the dataset into training and testing sets\n",
        "X_train, X_test, y_train, y_test = train_test_split(ct_data, ct_labels, test_size=0.2, random_state=42)\n",
        "\n",
        "# Split the training set into training and validation sets\n",
        "X_train, X_val, y_train, y_val = train_test_split(X_train, y_train, test_size=0.2, random_state=42)\n"
      ]
    },
    {
      "cell_type": "code",
      "execution_count": 5,
      "metadata": {
        "colab": {
          "base_uri": "https://localhost:8080/"
        },
        "id": "GB-oTtTeh1KF",
        "outputId": "6315e6c6-6ab7-4f89-856f-2142577b4a45"
      },
      "outputs": [
        {
          "output_type": "stream",
          "name": "stdout",
          "text": [
            "Training set shape: (5155, 224, 224)\n",
            "Validation set shape: (1289, 224, 224)\n",
            "Testing set shape: (1611, 224, 224)\n"
          ]
        }
      ],
      "source": [
        "print(\"Training set shape:\", X_train.shape)\n",
        "print(\"Validation set shape:\", X_val.shape)\n",
        "print(\"Testing set shape:\", X_test.shape)\n"
      ]
    },
    {
      "cell_type": "code",
      "execution_count": 6,
      "metadata": {
        "colab": {
          "base_uri": "https://localhost:8080/"
        },
        "id": "q_PKj3FEpwab",
        "outputId": "ce563266-fd34-4686-833e-a64bbc636651"
      },
      "outputs": [
        {
          "output_type": "stream",
          "name": "stdout",
          "text": [
            "Training set shape: (5155,)\n",
            "Validation set shape: (1289,)\n",
            "Testing set shape: (1611,)\n"
          ]
        }
      ],
      "source": [
        "print(\"Training set shape:\", y_train.shape)\n",
        "print(\"Validation set shape:\", y_val.shape)\n",
        "print(\"Testing set shape:\", y_test.shape)"
      ]
    },
    {
      "cell_type": "code",
      "execution_count": 7,
      "metadata": {
        "id": "YxV0piw5pg1v"
      },
      "outputs": [],
      "source": [
        "\n",
        "\n",
        "from sklearn.preprocessing import LabelBinarizer\n",
        "\n",
        "# Convert class labels to binary format\n",
        "lb = LabelBinarizer()\n",
        "y_train = lb.fit_transform(y_train)\n",
        "y_val = lb.transform(y_val)\n",
        "y_test = lb.transform(y_test)\n"
      ]
    },
    {
      "cell_type": "code",
      "execution_count": 8,
      "metadata": {
        "colab": {
          "base_uri": "https://localhost:8080/"
        },
        "id": "vRLW0SMBq1mP",
        "outputId": "d234f33f-0b61-4c41-9348-85533afc8960"
      },
      "outputs": [
        {
          "output_type": "execute_result",
          "data": {
            "text/plain": [
              "array([[0],\n",
              "       [0],\n",
              "       [1],\n",
              "       ...,\n",
              "       [0],\n",
              "       [0],\n",
              "       [0]])"
            ]
          },
          "metadata": {},
          "execution_count": 8
        }
      ],
      "source": [
        "y_train"
      ]
    },
    {
      "cell_type": "code",
      "execution_count": 9,
      "metadata": {
        "colab": {
          "base_uri": "https://localhost:8080/"
        },
        "id": "pg16NaPLOzmi",
        "outputId": "cd364d6c-a25b-49e2-84e6-08018ccf631c"
      },
      "outputs": [
        {
          "output_type": "stream",
          "name": "stdout",
          "text": [
            "Epoch 1/50\n"
          ]
        },
        {
          "output_type": "stream",
          "name": "stderr",
          "text": [
            "/usr/local/lib/python3.9/dist-packages/tensorflow/python/util/dispatch.py:1176: SyntaxWarning: In loss categorical_crossentropy, expected y_pred.shape to be (batch_size, num_classes) with num_classes > 1. Received: y_pred.shape=(None, 1). Consider using 'binary_crossentropy' if you only have 2 classes.\n",
            "  return dispatch_target(*args, **kwargs)\n"
          ]
        },
        {
          "output_type": "stream",
          "name": "stdout",
          "text": [
            "81/81 [==============================] - 495s 6s/step - loss: 0.0000e+00 - accuracy: 0.6772 - val_loss: 0.0000e+00 - val_accuracy: 0.6796\n",
            "Epoch 2/50\n",
            "81/81 [==============================] - 491s 6s/step - loss: 0.0000e+00 - accuracy: 0.6774 - val_loss: 0.0000e+00 - val_accuracy: 0.6796\n",
            "Epoch 3/50\n",
            "81/81 [==============================] - 492s 6s/step - loss: 0.0000e+00 - accuracy: 0.6774 - val_loss: 0.0000e+00 - val_accuracy: 0.6796\n",
            "Epoch 4/50\n",
            "81/81 [==============================] - 491s 6s/step - loss: 0.0000e+00 - accuracy: 0.6774 - val_loss: 0.0000e+00 - val_accuracy: 0.6796\n",
            "Epoch 5/50\n",
            "81/81 [==============================] - 495s 6s/step - loss: 0.0000e+00 - accuracy: 0.6774 - val_loss: 0.0000e+00 - val_accuracy: 0.6796\n",
            "Epoch 6/50\n",
            "81/81 [==============================] - 481s 6s/step - loss: 0.0000e+00 - accuracy: 0.6774 - val_loss: 0.0000e+00 - val_accuracy: 0.6796\n"
          ]
        }
      ],
      "source": [
        "from keras.models import Sequential\n",
        "from keras.layers import Conv2D, MaxPooling2D, Flatten, Dense\n",
        "from tensorflow.keras.callbacks import EarlyStopping\n",
        "\n",
        "# Build a baseline fully connected model\n",
        "baseline_model = Sequential()\n",
        "baseline_model._name = \"Baseline\"\n",
        "\n",
        "\n",
        "# Add a Conv2D layer with 32 filters and 3x3 kernel size\n",
        "baseline_model.add(Conv2D(filters=32,\n",
        "                 kernel_size=(3, 3),\n",
        "                 activation='relu',\n",
        "                 input_shape=(224, 224, 1)))\n",
        "\n",
        "# Add a MaxPooling2D layer with 2x2 pool size\n",
        "baseline_model.add(MaxPooling2D(pool_size=(2, 2)))\n",
        "\n",
        "# Add another Conv2D layer with 64 filters and 3x3 kernel size\n",
        "baseline_model.add(Conv2D(filters=64,\n",
        "                 kernel_size=(3, 3),\n",
        "                 activation='relu'))\n",
        "\n",
        "# Flatten the output of the convolutional layers\n",
        "baseline_model.add(Flatten())\n",
        "\n",
        "\n",
        "baseline_model.add(Dense(16, activation='relu')) \n",
        "\n",
        "baseline_model.add(Dense(1, activation='sigmoid')) \n",
        "\n",
        "# Define early stopping callback\n",
        "trainCallback = EarlyStopping(monitor='accuracy', min_delta=1e-2, patience=5)\n",
        "\n",
        "# Compile the model\n",
        "model.compile(loss='binary_crossentropy', optimizer='adam', metrics=['accuracy', tf.keras.metrics.Precision(), tf.keras.metrics.Recall()])\n",
        "\n",
        "\n",
        "baseline = baseline_model.fit(X_train, y_train,\n",
        "                   epochs=50,\n",
        "                   batch_size=64,\n",
        "                   validation_data=(X_val, y_val),\n",
        "                   callbacks=[trainCallback])\n"
      ]
    },
    {
      "cell_type": "code",
      "execution_count": 10,
      "metadata": {
        "id": "6kIW9EcUfi6p",
        "colab": {
          "base_uri": "https://localhost:8080/"
        },
        "outputId": "b4f5a65f-67ed-48d1-b3fc-18844bc274be"
      },
      "outputs": [
        {
          "output_type": "stream",
          "name": "stdout",
          "text": [
            "51/51 [==============================] - 40s 778ms/step - loss: 0.0000e+00 - accuracy: 0.6574\n",
            "Test loss: 0.0\n",
            "Test accuracy: 0.6573556661605835\n"
          ]
        }
      ],
      "source": [
        "loss, accuracy, precision, recall, f1_score = model.evaluate(X_test, y_test)\n",
        "print(\"Test loss:\", loss)\n",
        "print(\"Test accuracy:\", accuracy)\n",
        "print(\"Test precision:\", precision)\n",
        "print(\"Test recall:\", recall)"
      ]
    },
    {
      "cell_type": "code",
      "execution_count": 11,
      "metadata": {
        "id": "U5qs_gScflGA",
        "colab": {
          "base_uri": "https://localhost:8080/",
          "height": 472
        },
        "outputId": "eeb75cdd-b730-4d67-abdd-f3b71cd51da5"
      },
      "outputs": [
        {
          "output_type": "display_data",
          "data": {
            "text/plain": [
              "<Figure size 640x480 with 1 Axes>"
            ],
            "image/png": "[encoded data removed]"
          },
          "metadata": {}
        }
      ],
      "source": [
        "import matplotlib.pyplot as plt\n",
        "\n",
        "# Plot training and validation loss history\n",
        "history = baseline.history\n",
        "train_loss = history['loss']\n",
        "val_loss = history['val_loss']\n",
        "\n",
        "plt.plot(train_loss, label='Train loss')\n",
        "plt.plot(val_loss, label='Val loss')\n",
        "plt.legend()\n",
        "plt.title('Baseline Training and Validation Loss')\n",
        "plt.xlabel('Epoch')\n",
        "plt.ylabel('Loss')\n",
        "plt.show()\n",
        "\n"
      ]
    },
    {
      "cell_type": "code",
      "source": [
        "from sklearn.metrics import confusion_matrix\n",
        "# Assume you have trained and fitted a machine learning model called `model`\n",
        "# and you have a test set `X_test` and `y_test`\n",
        "\n",
        "# Use the trained model to predict the target variable based on X_test\n",
        "y_pred = baseline_model.predict(X_test)\n",
        "\n",
        "\n",
        "# Calculate the confusion matrix\n",
        "cm = confusion_matrix(y_test, y_pred)\n",
        "\n",
        "# Plot the confusion matrix\n",
        "plt.matshow(cm, cmap=plt.cm.Blues)\n",
        "plt.colorbar()\n",
        "plt.xlabel('Predicted')\n",
        "plt.ylabel('True')\n",
        "plt.show()\n"
      ],
      "metadata": {
        "id": "Y__LcjDC6z13",
        "colab": {
          "base_uri": "https://localhost:8080/",
          "height": 434
        },
        "outputId": "03251d56-0ecb-4d1e-d9b0-04542a01026d"
      },
      "execution_count": 12,
      "outputs": [
        {
          "output_type": "stream",
          "name": "stdout",
          "text": [
            "51/51 [==============================] - 37s 717ms/step\n"
          ]
        },
        {
          "output_type": "display_data",
          "data": {
            "text/plain": [
              "<Figure size 480x480 with 2 Axes>"
            ],
            "image/png": "[encoded data removed]"
          },
          "metadata": {}
        }
      ]
    },
    {
      "cell_type": "code",
      "source": [
        "from sklearn.metrics import confusion_matrix\n",
        "\n",
        "# Use the trained model to predict the target variable based on X_test\n",
        "y_pred = baseline_model.predict(X_test)\n",
        "\n",
        "# Calculate the confusion matrix\n",
        "cm = confusion_matrix(y_test, y_pred)\n",
        "\n",
        "# Plot the confusion matrix\n",
        "plt.matshow(cm, cmap=plt.cm.Blues)\n",
        "plt.colorbar()\n",
        "plt.xlabel('Predicted')\n",
        "plt.ylabel('True')\n",
        "plt.show()\n"
      ],
      "metadata": {
        "id": "YjjnEX2e0UB3",
        "colab": {
          "base_uri": "https://localhost:8080/",
          "height": 434
        },
        "outputId": "20bd4e5d-d663-4fb3-efb2-509bc9d9ccf2"
      },
      "execution_count": 13,
      "outputs": [
        {
          "output_type": "stream",
          "name": "stdout",
          "text": [
            "51/51 [==============================] - 40s 764ms/step\n"
          ]
        },
        {
          "output_type": "display_data",
          "data": {
            "text/plain": [
              "<Figure size 480x480 with 2 Axes>"
            ],
            "image/png": "[encoded data removed]"
          },
          "metadata": {}
        }
      ]
    },
    {
      "cell_type": "code",
      "execution_count": 14,
      "metadata": {
        "colab": {
          "base_uri": "https://localhost:8080/"
        },
        "id": "FwRZbxHto-pT",
        "outputId": "a6fab38e-3b1e-458c-bc44-8ce34f64688a"
      },
      "outputs": [
        {
          "output_type": "stream",
          "name": "stdout",
          "text": [
            "Epoch 1/10\n",
            "162/162 [==============================] - 632s 4s/step - loss: 0.3988 - accuracy: 0.8066 - val_loss: 0.2536 - val_accuracy: 0.8720\n",
            "Epoch 2/10\n",
            "162/162 [==============================] - 622s 4s/step - loss: 0.2273 - accuracy: 0.8923 - val_loss: 0.2195 - val_accuracy: 0.8999\n",
            "Epoch 3/10\n",
            "162/162 [==============================] - 624s 4s/step - loss: 0.1719 - accuracy: 0.9286 - val_loss: 0.2209 - val_accuracy: 0.8960\n",
            "Epoch 4/10\n",
            "162/162 [==============================] - 620s 4s/step - loss: 0.1229 - accuracy: 0.9498 - val_loss: 0.2274 - val_accuracy: 0.9123\n",
            "Epoch 5/10\n",
            "162/162 [==============================] - 624s 4s/step - loss: 0.0790 - accuracy: 0.9678 - val_loss: 0.2592 - val_accuracy: 0.9185\n",
            "Epoch 6/10\n",
            "162/162 [==============================] - 618s 4s/step - loss: 0.0591 - accuracy: 0.9787 - val_loss: 0.2239 - val_accuracy: 0.9247\n",
            "Epoch 7/10\n",
            "162/162 [==============================] - 620s 4s/step - loss: 0.0358 - accuracy: 0.9872 - val_loss: 0.3014 - val_accuracy: 0.9193\n",
            "Epoch 8/10\n",
            "162/162 [==============================] - 621s 4s/step - loss: 0.0128 - accuracy: 0.9971 - val_loss: 0.6167 - val_accuracy: 0.8976\n",
            "Epoch 9/10\n",
            "162/162 [==============================] - 616s 4s/step - loss: 0.0446 - accuracy: 0.9878 - val_loss: 0.2595 - val_accuracy: 0.9131\n",
            "Epoch 10/10\n",
            "162/162 [==============================] - 619s 4s/step - loss: 0.0237 - accuracy: 0.9942 - val_loss: 0.3329 - val_accuracy: 0.9147\n"
          ]
        }
      ],
      "source": [
        "from keras.models import Sequential\n",
        "from keras.layers import Conv2D, MaxPooling2D, Flatten, Dense\n",
        "\n",
        "# Create a Sequential model\n",
        "model = Sequential()\n",
        "\n",
        "# Add a Conv2D layer with 32 filters and 3x3 kernel size\n",
        "model.add(Conv2D(filters=32,\n",
        "                 kernel_size=(3, 3),\n",
        "                 activation='relu',\n",
        "                 input_shape=(224, 224, 1)))\n",
        "\n",
        "# Add a MaxPooling2D layer with 2x2 pool size\n",
        "model.add(MaxPooling2D(pool_size=(2, 2)))\n",
        "\n",
        "# Add another Conv2D layer with 64 filters and 3x3 kernel size\n",
        "model.add(Conv2D(filters=64,\n",
        "                 kernel_size=(3, 3),\n",
        "                 activation='relu'))\n",
        "\n",
        "\n",
        "# Add another MaxPooling2D layer with 2x2 pool size\n",
        "model.add(MaxPooling2D(pool_size=(2, 2)))\n",
        "\n",
        "# Add another Conv2D layer with 64 filters and 3x3 kernel size\n",
        "model.add(Conv2D(filters=64,\n",
        "                 kernel_size=(3, 3),\n",
        "                 activation='relu'))\n",
        "\n",
        "# Flatten the output of the convolutional layers\n",
        "model.add(Flatten())\n",
        "\n",
        "# Add a Dense layer with 64 neurons and ReLU activation\n",
        "model.add(Dense(64, activation='relu'))\n",
        "\n",
        "model.add(Dense(1, activation='sigmoid'))\n",
        "\n",
        "\n",
        "# Compile the model\n",
        "model.compile(loss='binary_crossentropy', optimizer='adam', metrics=['accuracy', tf.keras.metrics.Precision(), tf.keras.metrics.Recall()])\n",
        "\n",
        "\n",
        "history = model.fit(X_train, y_train,\n",
        "                    epochs=10,\n",
        "                    batch_size=32,\n",
        "                    validation_data=(X_val, y_val))"
      ]
    },
    {
      "cell_type": "code",
      "execution_count": 15,
      "metadata": {
        "id": "5m2q4PDK_Tgo",
        "colab": {
          "base_uri": "https://localhost:8080/"
        },
        "outputId": "086e3101-b2df-4b27-b6e6-20cdf3e4415b"
      },
      "outputs": [
        {
          "output_type": "stream",
          "name": "stdout",
          "text": [
            "51/51 [==============================] - 48s 937ms/step - loss: 0.3535 - accuracy: 0.9174\n",
            "Test loss: 0.3534733057022095\n",
            "Test accuracy: 0.9174425601959229\n"
          ]
        }
      ],
      "source": [
        "loss, accuracy, precision, recall, f1_score = model.evaluate(X_test, y_test)\n",
        "print(\"Test loss:\", loss)\n",
        "print(\"Test accuracy:\", accuracy)\n",
        "print(\"Test precision:\", precision)\n",
        "print(\"Test recall:\", recall)"
      ]
    },
    {
      "cell_type": "code",
      "execution_count": 16,
      "metadata": {
        "id": "v3lV3syYOeQ0",
        "colab": {
          "base_uri": "https://localhost:8080/",
          "height": 472
        },
        "outputId": "f53cc3c1-66f6-42f5-8924-ae7035831681"
      },
      "outputs": [
        {
          "output_type": "display_data",
          "data": {
            "text/plain": [
              "<Figure size 640x480 with 1 Axes>"
            ],
            "image/png": "[encoded data removed]"
          },
          "metadata": {}
        }
      ],
      "source": [
        "import matplotlib.pyplot as plt\n",
        "\n",
        "\n",
        "# Plot training and validation loss history\n",
        "train_loss = history.history['loss']\n",
        "val_loss = history.history['val_loss']\n",
        "\n",
        "plt.plot(train_loss, label='Train loss')\n",
        "plt.plot(val_loss, label='Val loss')\n",
        "plt.legend()\n",
        "plt.title('Training and Validation Loss')\n",
        "plt.xlabel('Epoch')\n",
        "plt.ylabel('Loss')\n",
        "plt.show()\n"
      ]
    },
    {
      "cell_type": "code",
      "source": [
        "from sklearn.metrics import ConfusionMatrixDisplay\n",
        "from sklearn.metrics import classification_report\n",
        "\n",
        "\n",
        "# Use the trained model to predict the target variable based on X_test\n",
        "y_pred = baseline_model.predict(X_test)\n",
        "\n",
        "\n",
        "# Calculate the confusion matrix\n",
        "cm = confusion_matrix(y_test, y_pred)\n",
        "\n",
        "# Plot the confusion matrix\n",
        "disp = ConfusionMatrixDisplay(confusion_matrix=cm)\n",
        "disp.plot()\n",
        "plt.show()\n",
        "\n",
        "# Calculate and print the classification report\n",
        "report = classification_report(y_test, y_pred)\n",
        "print(f'Classification report:\\n{report}')"
      ],
      "metadata": {
        "id": "AQ3oUpKx7C5j",
        "colab": {
          "base_uri": "https://localhost:8080/",
          "height": 764
        },
        "outputId": "cb6db8a4-f3a8-4a10-ae77-72cfdd39909f"
      },
      "execution_count": 17,
      "outputs": [
        {
          "output_type": "stream",
          "name": "stdout",
          "text": [
            "51/51 [==============================] - 36s 713ms/step\n"
          ]
        },
        {
          "output_type": "display_data",
          "data": {
            "text/plain": [
              "<Figure size 640x480 with 2 Axes>"
            ],
            "image/png": "[encoded data removed]"
          },
          "metadata": {}
        },
        {
          "output_type": "stream",
          "name": "stdout",
          "text": [
            "Classification report:\n",
            "              precision    recall  f1-score   support\n",
            "\n",
            "           0       0.66      1.00      0.79      1059\n",
            "           1       0.00      0.00      0.00       552\n",
            "\n",
            "    accuracy                           0.66      1611\n",
            "   macro avg       0.33      0.50      0.40      1611\n",
            "weighted avg       0.43      0.66      0.52      1611\n",
            "\n"
          ]
        },
        {
          "output_type": "stream",
          "name": "stderr",
          "text": [
            "/usr/local/lib/python3.9/dist-packages/sklearn/metrics/_classification.py:1344: UndefinedMetricWarning: Precision and F-score are ill-defined and being set to 0.0 in labels with no predicted samples. Use `zero_division` parameter to control this behavior.\n",
            "  _warn_prf(average, modifier, msg_start, len(result))\n",
            "/usr/local/lib/python3.9/dist-packages/sklearn/metrics/_classification.py:1344: UndefinedMetricWarning: Precision and F-score are ill-defined and being set to 0.0 in labels with no predicted samples. Use `zero_division` parameter to control this behavior.\n",
            "  _warn_prf(average, modifier, msg_start, len(result))\n",
            "/usr/local/lib/python3.9/dist-packages/sklearn/metrics/_classification.py:1344: UndefinedMetricWarning: Precision and F-score are ill-defined and being set to 0.0 in labels with no predicted samples. Use `zero_division` parameter to control this behavior.\n",
            "  _warn_prf(average, modifier, msg_start, len(result))\n"
          ]
        }
      ]
    },
    {
      "cell_type": "code",
      "source": [
        "# overfitting -- so adding L2 regularization"
      ],
      "metadata": {
        "id": "5hOtd8wnvxeb"
      },
      "execution_count": 20,
      "outputs": []
    },
    {
      "cell_type": "code",
      "source": [
        "import tensorflow as tf\n",
        "from keras.models import Sequential\n",
        "from keras.layers import Conv2D, MaxPooling2D, Flatten, Dense\n",
        "from keras import regularizers\n",
        "\n",
        "# Create a Sequential model\n",
        "model = Sequential()\n",
        "\n",
        "# Add a Conv2D layer with 32 filters and 3x3 kernel size\n",
        "model.add(Conv2D(filters=32,\n",
        "                 kernel_size=(3, 3),\n",
        "                 activation='relu',\n",
        "                 input_shape=(224, 224, 1)))\n",
        "\n",
        "# Add a MaxPooling2D layer with 2x2 pool size\n",
        "model.add(MaxPooling2D(pool_size=(2, 2)))\n",
        "\n",
        "# Add another Conv2D layer with 64 filters and 3x3 kernel size\n",
        "model.add(Conv2D(filters=64,\n",
        "                 kernel_size=(3, 3),\n",
        "                 activation='relu',\n",
        "                 kernel_regularizer=regularizers.l2(0.01)))\n",
        "\n",
        "# Add another MaxPooling2D layer with 2x2 pool size\n",
        "model.add(MaxPooling2D(pool_size=(2, 2)))\n",
        "\n",
        "# Add another Conv2D layer with 64 filters and 3x3 kernel size\n",
        "model.add(Conv2D(filters=64,\n",
        "                 kernel_size=(3, 3),\n",
        "                 activation='relu',\n",
        "                 kernel_regularizer=regularizers.l2(0.01)))\n",
        "\n",
        "# Flatten the output of the convolutional layers\n",
        "model.add(Flatten())\n",
        "\n",
        "# Add a Dense layer with 64 neurons and ReLU activation, with L2 regularization\n",
        "model.add(Dense(64, activation='relu', kernel_regularizer=regularizers.l2(0.01)))\n",
        "\n",
        "# Add the output layer\n",
        "model.add(Dense(1, activation='sigmoid'))\n",
        "\n",
        "# Compile the model\n",
        "model.compile(loss='binary_crossentropy',\n",
        "              optimizer='adam',\n",
        "              metrics=['accuracy', tf.keras.metrics.Precision(), tf.keras.metrics.Recall()])\n",
        "\n",
        "# Fit the model\n",
        "history = model.fit(X_train, y_train,\n",
        "                    epochs=10,\n",
        "                    batch_size=32,\n",
        "                    validation_data=(X_val, y_val))\n"
      ],
      "metadata": {
        "id": "E51zTcfywruH",
        "colab": {
          "base_uri": "https://localhost:8080/"
        },
        "outputId": "ceec3918-52fb-49b3-967d-792251bc80d6"
      },
      "execution_count": null,
      "outputs": [
        {
          "output_type": "stream",
          "name": "stdout",
          "text": [
            "Epoch 1/10\n",
            "162/162 [==============================] - 628s 4s/step - loss: 1.0818 - accuracy: 0.7670 - precision: 0.6600 - recall: 0.5731 - val_loss: 0.6817 - val_accuracy: 0.7905 - val_precision: 0.6082 - val_recall: 0.9734\n",
            "Epoch 2/10\n",
            "162/162 [==============================] - 616s 4s/step - loss: 0.5676 - accuracy: 0.8355 - precision: 0.7526 - recall: 0.7300 - val_loss: 0.5613 - val_accuracy: 0.7905 - val_precision: 0.9133 - val_recall: 0.3826\n",
            "Epoch 3/10\n",
            "162/162 [==============================] - 619s 4s/step - loss: 0.4861 - accuracy: 0.8499 - precision: 0.7702 - recall: 0.7619 - val_loss: 0.4548 - val_accuracy: 0.8542 - val_precision: 0.8866 - val_recall: 0.6247\n",
            "Epoch 4/10\n",
            "162/162 [==============================] - 605s 4s/step - loss: 0.4292 - accuracy: 0.8652 - precision: 0.7912 - recall: 0.7907 - val_loss: 0.4219 - val_accuracy: 0.8751 - val_precision: 0.7414 - val_recall: 0.9370\n",
            "Epoch 5/10\n",
            " 87/162 [===============>..............] - ETA: 4:26 - loss: 0.4037 - accuracy: 0.8628 - precision: 0.7759 - recall: 0.8184"
          ]
        }
      ]
    },
    {
      "cell_type": "code",
      "source": [
        "loss, accuracy, precision, recall, f1_score = model.evaluate(X_test, y_test)\n",
        "print(\"Test loss:\", loss)\n",
        "print(\"Test accuracy:\", accuracy)\n",
        "print(\"Test precision:\", precision)\n",
        "print(\"Test recall:\", recall)"
      ],
      "metadata": {
        "id": "768uRSIMQrYl"
      },
      "execution_count": null,
      "outputs": []
    },
    {
      "cell_type": "code",
      "source": [
        "import matplotlib.pyplot as plt\n",
        "\n",
        "\n",
        "# Plot training and validation loss history\n",
        "train_loss = history.history['loss']\n",
        "val_loss = history.history['val_loss']\n",
        "\n",
        "plt.plot(train_loss, label='Train loss')\n",
        "plt.plot(val_loss, label='Val loss')\n",
        "plt.legend()\n",
        "plt.title('Training and Validation Loss')\n",
        "plt.xlabel('Epoch')\n",
        "plt.ylabel('Loss')\n",
        "plt.show()\n"
      ],
      "metadata": {
        "id": "TJ4Ah5LdSJks"
      },
      "execution_count": null,
      "outputs": []
    },
    {
      "cell_type": "code",
      "source": [
        "from keras.models import Sequential\n",
        "from keras.layers import Conv2D, MaxPooling2D, Flatten, Dense\n",
        "from keras import regularizers\n",
        "from keras import optimizers\n",
        "\n",
        "\n",
        "from keras.models import Sequential\n",
        "from keras.layers import Conv2D, MaxPooling2D, Flatten, Dense\n",
        "from keras import regularizers\n",
        "from keras import optimizers\n",
        "\n",
        "# Create a Sequential model\n",
        "model = Sequential()\n",
        "\n",
        "# Add a Conv2D layer with 32 filters and 3x3 kernel size\n",
        "model.add(Conv2D(filters=32,\n",
        "                 kernel_size=(3, 3),\n",
        "                 activation='relu',\n",
        "                 input_shape=(224, 224, 1)))\n",
        "\n",
        "# Add a MaxPooling2D layer with 2x2 pool size\n",
        "model.add(MaxPooling2D(pool_size=(2, 2)))\n",
        "\n",
        "# Add another Conv2D layer with 64 filters and 3x3 kernel size\n",
        "model.add(Conv2D(filters=64,\n",
        "                 kernel_size=(3, 3),\n",
        "                 activation='relu',\n",
        "                 kernel_regularizer=regularizers.l2(0.01)))\n",
        "\n",
        "# Add another MaxPooling2D layer with 2x2 pool size\n",
        "model.add(MaxPooling2D(pool_size=(2, 2)))\n",
        "\n",
        "# Add another Conv2D layer with 64 filters and 3x3 kernel size\n",
        "model.add(Conv2D(filters=64,\n",
        "                 kernel_size=(3, 3),\n",
        "                 activation='relu',\n",
        "                 kernel_regularizer=regularizers.l2(0.01)))\n",
        "\n",
        "# Flatten the output of the convolutional layers\n",
        "model.add(Flatten())\n",
        "\n",
        "# Add a Dense layer with 64 neurons and ReLU activation, with L2 regularization\n",
        "model.add(Dense(64, activation='relu', kernel_regularizer=regularizers.l2(0.01)))\n",
        "\n",
        "# Add the output layer\n",
        "model.add(Dense(1, activation='sigmoid'))\n",
        "\n",
        "# Define the optimizer with a learning rate of 0.001\n",
        "opt = optimizers.Adam(lr=0.01)\n",
        "\n",
        "# Compile the model with the defined optimizer\n",
        "model.compile(loss='binary_crossentropy',\n",
        "              optimizer=opt,\n",
        "              metrics=['accuracy', tf.keras.metrics.Precision(), tf.keras.metrics.Recall()])\n",
        "\n",
        "# Fit the model\n",
        "history = model.fit(X_train, y_train,\n",
        "                    epochs=10,\n",
        "                    batch_size=32,\n",
        "                    validation_data=(X_val, y_val))\n"
      ],
      "metadata": {
        "id": "AX4QOTInXQz7"
      },
      "execution_count": null,
      "outputs": []
    },
    {
      "cell_type": "code",
      "source": [
        "loss, accuracy, precision, recall, f1_score = model.evaluate(X_test, y_test)\n",
        "print(\"Test loss:\", loss)\n",
        "print(\"Test accuracy:\", accuracy)\n",
        "print(\"Test precision:\", precision)\n",
        "print(\"Test recall:\", recall)"
      ],
      "metadata": {
        "id": "zemUE4P5xNZk"
      },
      "execution_count": null,
      "outputs": []
    },
    {
      "cell_type": "code",
      "source": [
        "import matplotlib.pyplot as plt\n",
        "\n",
        "\n",
        "# Plot training and validation loss history\n",
        "train_loss = history.history['loss']\n",
        "val_loss = history.history['val_loss']\n",
        "\n",
        "plt.plot(train_loss, label='Train loss')\n",
        "plt.plot(val_loss, label='Val loss')\n",
        "plt.legend()\n",
        "plt.title('Training and Validation Loss')\n",
        "plt.xlabel('Epoch')\n",
        "plt.ylabel('Loss')\n",
        "plt.show()"
      ],
      "metadata": {
        "id": "nfE3Dw4Ux4Gq"
      },
      "execution_count": null,
      "outputs": []
    },
    {
      "cell_type": "code",
      "source": [
        "#next model to update filters from 32 to 64"
      ],
      "metadata": {
        "id": "t4MB9LZnxN0r"
      },
      "execution_count": null,
      "outputs": []
    },
    {
      "cell_type": "code",
      "source": [
        "\n",
        "\n",
        "from keras.models import Sequential\n",
        "from keras.layers import Conv2D, MaxPooling2D, Flatten, Dense\n",
        "from keras import regularizers\n",
        "from keras import optimizers\n",
        "\n",
        "#update the previous model to have a learning rate of .001\n",
        "opt = optimizers.Adam(lr=0.001)\n",
        "\n",
        "from keras.models import Sequential\n",
        "from keras.layers import Conv2D, MaxPooling2D, Flatten, Dense\n",
        "from keras import regularizers\n",
        "from keras import optimizers\n",
        "\n",
        "# Create a Sequential model\n",
        "model = Sequential()\n",
        "\n",
        "# Add a Conv2D layer with 64 filters and 3x3 kernel size\n",
        "model.add(Conv2D(filters=64,\n",
        "                 kernel_size=(3, 3),\n",
        "                 activation='relu',\n",
        "                 input_shape=(224, 224, 1)))\n",
        "\n",
        "# Add a MaxPooling2D layer with 2x2 pool size\n",
        "model.add(MaxPooling2D(pool_size=(2, 2)))\n",
        "\n",
        "# Add another Conv2D layer with 64 filters and 3x3 kernel size\n",
        "model.add(Conv2D(filters=64,\n",
        "                 kernel_size=(3, 3),\n",
        "                 activation='relu',\n",
        "                 kernel_regularizer=regularizers.l2(0.01)))\n",
        "\n",
        "# Add another MaxPooling2D layer with 2x2 pool size\n",
        "model.add(MaxPooling2D(pool_size=(2, 2)))\n",
        "\n",
        "# Add another Conv2D layer with 64 filters and 3x3 kernel size\n",
        "model.add(Conv2D(filters=64,\n",
        "                 kernel_size=(3, 3),\n",
        "                 activation='relu',\n",
        "                 kernel_regularizer=regularizers.l2(0.01)))\n",
        "\n",
        "# Flatten the output of the convolutional layers\n",
        "model.add(Flatten())\n",
        "\n",
        "# Add a Dense layer with 64 neurons and ReLU activation, with L2 regularization\n",
        "model.add(Dense(64, activation='relu', kernel_regularizer=regularizers.l2(0.01)))\n",
        "\n",
        "# Add the output layer\n",
        "model.add(Dense(1, activation='sigmoid'))\n",
        "\n",
        "# Define the optimizer with a learning rate of 0.001\n",
        "opt = optimizers.Adam(lr=0.001)\n",
        "\n",
        "# Compile the model with the defined optimizer\n",
        "model.compile(loss='binary_crossentropy',\n",
        "              optimizer=opt,\n",
        "              metrics=['accuracy', tf.keras.metrics.Precision(), tf.keras.metrics.Recall()])\n",
        "\n",
        "# Fit the model\n",
        "history = model.fit(X_train, y_train,\n",
        "                    epochs=10,\n",
        "                    batch_size=32,\n",
        "                    validation_data=(X_val, y_val))"
      ],
      "metadata": {
        "id": "mZcUzOYSxOsp"
      },
      "execution_count": null,
      "outputs": []
    },
    {
      "cell_type": "code",
      "source": [
        "loss, accuracy, precision, recall, f1_score = model.evaluate(X_test, y_test)\n",
        "print(\"Test loss:\", loss)\n",
        "print(\"Test accuracy:\", accuracy)\n",
        "print(\"Test precision:\", precision)\n",
        "print(\"Test recall:\", recall)"
      ],
      "metadata": {
        "id": "jHZC3UeODbjx"
      },
      "execution_count": null,
      "outputs": []
    },
    {
      "cell_type": "code",
      "source": [
        "import matplotlib.pyplot as plt\n",
        "\n",
        "\n",
        "# Plot training and validation loss history\n",
        "train_loss = history.history['loss']\n",
        "val_loss = history.history['val_loss']\n",
        "\n",
        "plt.plot(train_loss, label='Train loss')\n",
        "plt.plot(val_loss, label='Val loss')\n",
        "plt.legend()\n",
        "plt.title('Training and Validation Loss')\n",
        "plt.xlabel('Epoch')\n",
        "plt.ylabel('Loss')\n",
        "plt.show()"
      ],
      "metadata": {
        "id": "lclyEBggDe62"
      },
      "execution_count": null,
      "outputs": []
    },
    {
      "cell_type": "code",
      "source": [
        "  "
      ],
      "metadata": {
        "id": "uXH6f9dw5FYe"
      },
      "execution_count": null,
      "outputs": []
    },
    {
      "cell_type": "code",
      "source": [],
      "metadata": {
        "id": "TjQPxXIlHNse"
      },
      "execution_count": null,
      "outputs": []
    }
  ],
  "metadata": {
    "colab": {
      "provenance": []
    },
    "kernelspec": {
      "display_name": "Python 3",
      "name": "python3"
    },
    "language_info": {
      "name": "python"
    }
  },
  "nbformat": 4,
  "nbformat_minor": 0
}
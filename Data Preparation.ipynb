{
 "cells": [
  {
   "cell_type": "code",
   "execution_count": 2,
   "metadata": {},
   "outputs": [],
   "source": [
    "import os\n",
    "import cv2\n",
    "import numpy as np\n",
    "\n",
    "data_dir = './COVID-19 Dataset'\n",
    "\n",
    "# Define the subfolders and labels\n",
    "categories = ['X-Ray']\n",
    "labels = ['COVID', 'Non-COVID']\n",
    "\n",
    "# Load the images and labels from the dataset\n",
    "xray_data = []\n",
    "xray_labels = []\n",
    "\n",
    "for category in categories:\n",
    "    for label in labels:\n",
    "        folder_path = os.path.join(data_dir, category, label)\n",
    "        for img_file in os.listdir(folder_path):\n",
    "            img_path = os.path.join(folder_path, img_file)\n",
    "            img = cv2.imread(img_path, cv2.IMREAD_GRAYSCALE)\n",
    "            img = cv2.resize(img, (224, 224))  # Resize to a standard size\n",
    "            img = img.astype('float32') / 255.0  # Normalize pixel values\n",
    "            #img = img.flatten()  # Flatten the image\n",
    "            xray_data.append(img)\n",
    "            xray_labels.append(label)\n",
    "\n",
    "# Convert the lists to numpy arrays\n",
    "xray_data = np.array(xray_data)\n",
    "xray_labels = np.array(xray_labels)\n",
    "\n",
    "# Save the data and labels for X-Ray in separate numpy arrays\n",
    "np.save('xray_data.npy', xray_data)\n",
    "np.save('xray_labels.npy', xray_labels)\n",
    "\n"
   ]
  },
  {
   "cell_type": "code",
   "execution_count": 3,
   "metadata": {},
   "outputs": [],
   "source": [
    "data_dir = './COVID-19 Dataset'\n",
    "\n",
    "# Define the subfolders and labels\n",
    "categories = ['CT']\n",
    "labels = ['COVID', 'Non-COVID']\n",
    "\n",
    "# Load the images and labels from the dataset\n",
    "ct_data = []\n",
    "ct_labels = []\n",
    "\n",
    "for category in categories:\n",
    "    for label in labels:\n",
    "        folder_path = os.path.join(data_dir, category, label)\n",
    "        for img_file in os.listdir(folder_path):\n",
    "            img_path = os.path.join(folder_path, img_file)\n",
    "            img = cv2.imread(img_path, cv2.IMREAD_GRAYSCALE)\n",
    "            img = cv2.resize(img, (224, 224))  # Resize to a standard size\n",
    "            img = img.astype('float32') / 255.0  # Normalize pixel values\n",
    "            #img = img.flatten()  # Flatten the image\n",
    "            ct_data.append(img)\n",
    "            ct_labels.append(label)\n",
    "\n",
    "# Convert the lists to numpy arrays\n",
    "ct_data = np.array(ct_data)\n",
    "ct_labels = np.array(ct_labels)\n",
    "\n",
    "# Save the X-Ray data and labels to separate files\n",
    "np.save('ct_data.npy', ct_data)\n",
    "np.save('ct_labels.npy', ct_labels)\n"
   ]
  }
 ],
 "metadata": {
  "kernelspec": {
   "display_name": "Python (learn-env)",
   "language": "python",
   "name": "learn-env"
  },
  "language_info": {
   "codemirror_mode": {
    "name": "ipython",
    "version": 3
   },
   "file_extension": ".py",
   "mimetype": "text/x-python",
   "name": "python",
   "nbconvert_exporter": "python",
   "pygments_lexer": "ipython3",
   "version": "3.8.5"
  }
 },
 "nbformat": 4,
 "nbformat_minor": 4
}
